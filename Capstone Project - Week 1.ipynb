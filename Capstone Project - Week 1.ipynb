{
    "cells": [
        {
            "cell_type": "markdown",
            "metadata": {
                "collapsed": true
            },
            "source": "# Capstone Project - The Battle of Neighborhoods (Week 1)"
        },
        {
            "cell_type": "markdown",
            "metadata": {},
            "source": "### Background"
        },
        {
            "cell_type": "markdown",
            "metadata": {},
            "source": "Islam is the second-largest religion in Canada. The most Muslim populated areas in Canada are in the Greater Toronto Area (GTA). The number of Muslim is increasing geometrically and according to statistics, the size of the Muslim population in Canada may cross 15 per cent of the total population by 2030. This also means that the demand for halal food by Muslim will increase as well. Thus, offering halal options in GTA is a pragmatic business decision for anyone in the food industry."
        },
        {
            "cell_type": "markdown",
            "metadata": {},
            "source": "### Business Problem"
        },
        {
            "cell_type": "markdown",
            "metadata": {},
            "source": "A client from Turkey wants to open his chain restaurant in Toronto. The restaurant will focus on serving halal food option to cater to Muslims around a neighbourhood that lacks this service. Setting up a business can be challenging at a location that is foreign to a business owner. Therefore, the client requires my assistance to find the best borough/neighbourhood in Toronto to open a Halal Restaurant. \n\nThe challenge to find a strategic neighbourhood is to ensure the following criteria are taken into consideration as well:\n\n1.\tWhere the targeted customer is most clustered at.\n\n2.\tLittle to no competition would help to reduce risk and gain a reasonable return on investment.\n\n3.\tThe availability of suppliers such as farmers market, wholesale market to purchase fresh ingredients to ensure quality and cost-effectiveness."
        },
        {
            "cell_type": "markdown",
            "metadata": {},
            "source": "### Target Audience"
        },
        {
            "cell_type": "markdown",
            "metadata": {},
            "source": "The success criteria of this project will be the best recommendation of the Borough/Neighborhood choice. The insight from this project analysis will be beneficial for audiences such as follows:\n\n   1.\tBusiness owners focusing on the halal industry.\n\n   2.\tMuslim who plans to migrate to Toronto.\n\n   3.\tMuslim students from oversea who chooses to continue their study in Toronto. \n\n   4.\tMuslim traveller who looks for accommodation around a Muslim friendly neighbourhood."
        },
        {
            "cell_type": "markdown",
            "metadata": {},
            "source": "### Data"
        },
        {
            "cell_type": "markdown",
            "metadata": {},
            "source": "For this project we need the following data:\n\n1.\tToronto data that contains list of Boroughs, Neighborhoods along with their latitude and longitude.\n\n    - **Data source**: Scrape the data of Boroughs and Neighborhood from Wikipedia and use geopy to get the latitude and longitude.\n    Wikepedia: https://en.wikipedia.org/w/index.php?title=List_of_postal_codes_of_Canada:_M&oldid=945633050\n    \n    - **Data usage**: To explore various Boroughs and Neighborhoods of Toronto.\n\n2.\tMosques in each Boroughs of Toronto.\n\n    - **Data source**: Foursquare API\n    \n    - **Data usage**: Identifying Mosques location can help justify where most Muslims are clustered at, as Muslims frequently gather at or visit a mosque.\n\n3.\tHalal restaurants nearby the mosques.\n\n    - **Data source**: Foursquare API\n    \n    - **Data usage**: Identifying competitions and which Borough/Neighborhood lacking halal service option. \n\n4.\tFarmers Markets, Supermarkets, Fish Markets, etc\n\n    - **Data source**: Foursquare API (OR) scrape data from https://www.farmersmarketsontario.com/find-a-farmers-market/ (whichever source enough data will be used)\n    \n    - **Data usage**: To identify which location will be the strategically near to get fresh supplies and other stocks."
        },
        {
            "cell_type": "code",
            "execution_count": null,
            "metadata": {},
            "outputs": [],
            "source": ""
        }
    ],
    "metadata": {
        "kernelspec": {
            "display_name": "Python 3.6",
            "language": "python",
            "name": "python3"
        },
        "language_info": {
            "codemirror_mode": {
                "name": "ipython",
                "version": 3
            },
            "file_extension": ".py",
            "mimetype": "text/x-python",
            "name": "python",
            "nbconvert_exporter": "python",
            "pygments_lexer": "ipython3",
            "version": "3.6.9"
        }
    },
    "nbformat": 4,
    "nbformat_minor": 1
}