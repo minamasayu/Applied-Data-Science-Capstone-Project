{
    "cells": [
        {
            "cell_type": "markdown",
            "metadata": {},
            "source": "### Importing Libraries"
        },
        {
            "cell_type": "code",
            "execution_count": 1,
            "metadata": {},
            "outputs": [
                {
                    "name": "stdout",
                    "output_type": "stream",
                    "text": "Libraries imported.\n"
                }
            ],
            "source": "import numpy as np # library to handle data in a vectorized manner\n\nimport pandas as pd # library for data analsysis\npd.set_option('display.max_columns', None)\npd.set_option('display.max_rows', None)\n\nimport urllib.request # library to open URLs\n\nimport urllib.request # library to open URLs\n\n!pip -q install bs4\nfrom bs4 import BeautifulSoup # import the BeautifulSoup library so we can parse HTML and XML documents\n\nimport json # library to handle JSON files\n\n!pip -q install geopy #install geopy\nfrom geopy.geocoders import Nominatim # convert an address into latitude and longitude values\n#RateLimiter, class which can be used to automatically add delays between geocoding calls to reduce the load on the Geocoding service. \n#Also it can retry failed requests and swallow errors for individual rows.\nfrom geopy.extra.rate_limiter import RateLimiter \n\nimport requests # library to handle requests\nfrom pandas.io.json import json_normalize # tranform JSON file into a pandas dataframe\n\n# Matplotlib and associated plotting modules\nimport matplotlib.cm as cm\nimport matplotlib.colors as colors\nimport matplotlib.pyplot as plt\n\n# import k-means from clustering stage\nfrom sklearn.cluster import KMeans\n\n!pip -q install folium #install folium\nimport folium # map rendering library\n\nprint('Libraries imported.')"
        },
        {
            "cell_type": "code",
            "execution_count": 2,
            "metadata": {},
            "outputs": [],
            "source": "!pip -q install bokeh\n!pip -q install Jinja2 >=2.7\n!pip -q install numpy >=1.11.3\n!pip -q install packaging >=16.8\n!pip -q install pillow >=4.0\n!pip -q install python-dateutil >=2.1\n!pip -q install PyYAML >=3.10\n!pip -q install six >=1.5.2\n!pip -q install tornado >=5\n!pip -q install typing_extensions >=3.7.4"
        },
        {
            "cell_type": "markdown",
            "metadata": {},
            "source": "### Get Toronto Dataset"
        },
        {
            "cell_type": "markdown",
            "metadata": {},
            "source": "##### Scrape Toronto Data from Wikipedia page."
        },
        {
            "cell_type": "code",
            "execution_count": 3,
            "metadata": {},
            "outputs": [
                {
                    "name": "stdout",
                    "output_type": "stream",
                    "text": "Soup ready!\n"
                }
            ],
            "source": "# specify the URL/web page we are going to be scraping\nurl = \"https://en.wikipedia.org/w/index.php?title=List_of_postal_codes_of_Canada:_M&oldid=945633050\"\n# open the url using urllib.request and put the HTML into the page variable\npage = urllib.request.urlopen(url)\n# parse the HTML from our URL into the BeautifulSoup parse tree format\nsoup = BeautifulSoup(page)\nprint('Soup ready!')"
        },
        {
            "cell_type": "code",
            "execution_count": 4,
            "metadata": {},
            "outputs": [],
            "source": "# analyse the HTML underlying the website\n#print(soup.prettify())"
        },
        {
            "cell_type": "code",
            "execution_count": 5,
            "metadata": {},
            "outputs": [],
            "source": "# use the 'find_all' function to bring back all instances of the 'table' tag in the HTML and store in 'all_tables' variable\nall_tables=soup.find_all(\"table\")\n#all_tables"
        },
        {
            "cell_type": "code",
            "execution_count": 6,
            "metadata": {},
            "outputs": [],
            "source": "right_table=soup.find('table', class_='wikitable sortable')\n#right_table\n\n# Loop through the rows\n\nA=[]\nB=[]\nC=[]\n\nfor row in right_table.findAll('tr'):\n    cells=row.findAll('td')\n    if len(cells)==3:\n        A.append(cells[0].find(text=True))\n        B.append(cells[1].find(text=True))\n        C.append(cells[2].find(text=True))"
        },
        {
            "cell_type": "code",
            "execution_count": 7,
            "metadata": {},
            "outputs": [
                {
                    "data": {
                        "text/html": "<div>\n<style scoped>\n    .dataframe tbody tr th:only-of-type {\n        vertical-align: middle;\n    }\n\n    .dataframe tbody tr th {\n        vertical-align: top;\n    }\n\n    .dataframe thead th {\n        text-align: right;\n    }\n</style>\n<table border=\"1\" class=\"dataframe\">\n  <thead>\n    <tr style=\"text-align: right;\">\n      <th></th>\n      <th>PostalCode</th>\n      <th>Borough</th>\n      <th>Neighborhood</th>\n    </tr>\n  </thead>\n  <tbody>\n    <tr>\n      <th>0</th>\n      <td>M1A</td>\n      <td>Not assigned</td>\n      <td>Not assigned</td>\n    </tr>\n    <tr>\n      <th>1</th>\n      <td>M2A</td>\n      <td>Not assigned</td>\n      <td>Not assigned</td>\n    </tr>\n    <tr>\n      <th>2</th>\n      <td>M3A</td>\n      <td>North York</td>\n      <td>Parkwoods</td>\n    </tr>\n    <tr>\n      <th>3</th>\n      <td>M4A</td>\n      <td>North York</td>\n      <td>Victoria Village</td>\n    </tr>\n    <tr>\n      <th>4</th>\n      <td>M5A</td>\n      <td>Downtown Toronto</td>\n      <td>Harbourfront</td>\n    </tr>\n  </tbody>\n</table>\n</div>",
                        "text/plain": "  PostalCode           Borough      Neighborhood\n0        M1A      Not assigned     Not assigned\n\n1        M2A      Not assigned     Not assigned\n\n2        M3A        North York         Parkwoods\n3        M4A        North York  Victoria Village\n4        M5A  Downtown Toronto      Harbourfront"
                    },
                    "execution_count": 7,
                    "metadata": {},
                    "output_type": "execute_result"
                }
            ],
            "source": "#convert list to dataframe\ndf=pd.DataFrame(A,columns=['PostalCode'])\ndf['Borough']=B\ndf['Neighborhood']=C\ndf.head()"
        },
        {
            "cell_type": "markdown",
            "metadata": {},
            "source": "##### Explore Dataset and Data Cleaning."
        },
        {
            "cell_type": "code",
            "execution_count": 8,
            "metadata": {},
            "outputs": [
                {
                    "name": "stdout",
                    "output_type": "stream",
                    "text": "Dataframe shape (287, 3)\n<class 'pandas.core.frame.DataFrame'>\nRangeIndex: 287 entries, 0 to 286\nData columns (total 3 columns):\nPostalCode      287 non-null object\nBorough         287 non-null object\nNeighborhood    287 non-null object\ndtypes: object(3)\nmemory usage: 6.8+ KB\n"
                }
            ],
            "source": "print('Dataframe shape {}'.format(df.shape))\ndf.info()"
        },
        {
            "cell_type": "code",
            "execution_count": 9,
            "metadata": {},
            "outputs": [
                {
                    "name": "stdout",
                    "output_type": "stream",
                    "text": "Total Boroughs 11\n"
                },
                {
                    "data": {
                        "text/plain": "Not assigned        77\nEtobicoke           45\nNorth York          38\nDowntown Toronto    37\nScarborough         37\nCentral Toronto     17\nWest Toronto        13\nYork                 9\nEast Toronto         7\nEast York            6\nMississauga          1\nName: Borough, dtype: int64"
                    },
                    "execution_count": 9,
                    "metadata": {},
                    "output_type": "execute_result"
                }
            ],
            "source": "print('Total Boroughs {}'.format(df['Borough'].drop_duplicates().reset_index(drop=True).count()))\ndf[\"Borough\"].value_counts()"
        },
        {
            "cell_type": "code",
            "execution_count": 10,
            "metadata": {},
            "outputs": [
                {
                    "name": "stdout",
                    "output_type": "stream",
                    "text": "Total Borough 9\nTotal Neighborhood 209\nDataframe shape (209, 2)\n"
                },
                {
                    "data": {
                        "text/html": "<div>\n<style scoped>\n    .dataframe tbody tr th:only-of-type {\n        vertical-align: middle;\n    }\n\n    .dataframe tbody tr th {\n        vertical-align: top;\n    }\n\n    .dataframe thead th {\n        text-align: right;\n    }\n</style>\n<table border=\"1\" class=\"dataframe\">\n  <thead>\n    <tr style=\"text-align: right;\">\n      <th></th>\n      <th>Borough</th>\n      <th>Neighborhood</th>\n    </tr>\n  </thead>\n  <tbody>\n    <tr>\n      <th>0</th>\n      <td>North York</td>\n      <td>Parkwoods</td>\n    </tr>\n    <tr>\n      <th>1</th>\n      <td>North York</td>\n      <td>Victoria Village</td>\n    </tr>\n    <tr>\n      <th>2</th>\n      <td>Downtown Toronto</td>\n      <td>Harbourfront</td>\n    </tr>\n    <tr>\n      <th>3</th>\n      <td>North York</td>\n      <td>Lawrence Heights</td>\n    </tr>\n    <tr>\n      <th>4</th>\n      <td>North York</td>\n      <td>Lawrence Manor</td>\n    </tr>\n  </tbody>\n</table>\n</div>",
                        "text/plain": "            Borough      Neighborhood\n0        North York         Parkwoods\n1        North York  Victoria Village\n2  Downtown Toronto      Harbourfront\n3        North York  Lawrence Heights\n4        North York    Lawrence Manor"
                    },
                    "execution_count": 10,
                    "metadata": {},
                    "output_type": "execute_result"
                }
            ],
            "source": "#Remove 'PostalCode' column.\ndf = df.drop(['PostalCode'],axis=1)\n\n#Remove rows with Borough equals to 'Not assigned' and 'mississuaga'.\ndf = df[(df.Borough != 'Mississauga') & (df.Borough != 'Not assigned')].reset_index(drop=True)\n\nprint('Total Borough {}'.format(df['Borough'].drop_duplicates().reset_index(drop=True).count()))\nprint('Total Neighborhood {}'.format(df['Neighborhood'].count()))\nprint('Dataframe shape {}'.format(df.shape))\ndf.head()"
        },
        {
            "cell_type": "markdown",
            "metadata": {},
            "source": "##### Get Neighborhood Latitude and Longitude using Geopy."
        },
        {
            "cell_type": "code",
            "execution_count": 11,
            "metadata": {},
            "outputs": [
                {
                    "name": "stdout",
                    "output_type": "stream",
                    "text": "Dataframe shape (209, 4)\n"
                },
                {
                    "data": {
                        "text/html": "<div>\n<style scoped>\n    .dataframe tbody tr th:only-of-type {\n        vertical-align: middle;\n    }\n\n    .dataframe tbody tr th {\n        vertical-align: top;\n    }\n\n    .dataframe thead th {\n        text-align: right;\n    }\n</style>\n<table border=\"1\" class=\"dataframe\">\n  <thead>\n    <tr style=\"text-align: right;\">\n      <th></th>\n      <th>Borough</th>\n      <th>Neighborhood</th>\n      <th>Latitude</th>\n      <th>Longitude</th>\n    </tr>\n  </thead>\n  <tbody>\n    <tr>\n      <th>0</th>\n      <td>North York</td>\n      <td>Parkwoods</td>\n      <td>43.758800</td>\n      <td>-79.320197</td>\n    </tr>\n    <tr>\n      <th>1</th>\n      <td>North York</td>\n      <td>Victoria Village</td>\n      <td>43.732658</td>\n      <td>-79.311189</td>\n    </tr>\n    <tr>\n      <th>2</th>\n      <td>Downtown Toronto</td>\n      <td>Harbourfront</td>\n      <td>43.640080</td>\n      <td>-79.380150</td>\n    </tr>\n    <tr>\n      <th>3</th>\n      <td>North York</td>\n      <td>Lawrence Heights</td>\n      <td>43.722778</td>\n      <td>-79.450933</td>\n    </tr>\n    <tr>\n      <th>4</th>\n      <td>North York</td>\n      <td>Lawrence Manor</td>\n      <td>43.722079</td>\n      <td>-79.437507</td>\n    </tr>\n  </tbody>\n</table>\n</div>",
                        "text/plain": "            Borough      Neighborhood   Latitude  Longitude\n0        North York         Parkwoods  43.758800 -79.320197\n1        North York  Victoria Village  43.732658 -79.311189\n2  Downtown Toronto      Harbourfront  43.640080 -79.380150\n3        North York  Lawrence Heights  43.722778 -79.450933\n4        North York    Lawrence Manor  43.722079 -79.437507"
                    },
                    "execution_count": 11,
                    "metadata": {},
                    "output_type": "execute_result"
                }
            ],
            "source": "geolocator = Nominatim(user_agent=\"tor_explorer\",timeout=10)\ngeocode = RateLimiter(geolocator.geocode, min_delay_seconds=2)\n\n# create empty lists\nlist_lat = []   \nlist_lng = []\n\nfor index, row in df.iterrows(): # iterate over rows in dataframe\n\n    Neighborhood = row['Neighborhood']\n    City = 'Toronto'     \n    address = str(Neighborhood)+', '+ City\n    \n\n    #location = geolocator.geocode(address)\n    location = geocode(address)\n    if location is None :\n        lat = None\n        lng = None\n    else:\n        lat = location.latitude\n        lng = location.longitude\n    #print('{},{}'.format(lat,lng))\n\n    list_lat.append(lat)\n    list_lng.append(lng)\n\n# create new columns from lists    \ndf['Latitude'] = list_lat   \ndf['Longitude'] = list_lng\n\nprint('Dataframe shape {}'.format(df.shape))\ndf.head()"
        },
        {
            "cell_type": "code",
            "execution_count": 12,
            "metadata": {},
            "outputs": [
                {
                    "name": "stdout",
                    "output_type": "stream",
                    "text": "Dataframe shape (201, 4)\n"
                },
                {
                    "data": {
                        "text/html": "<div>\n<style scoped>\n    .dataframe tbody tr th:only-of-type {\n        vertical-align: middle;\n    }\n\n    .dataframe tbody tr th {\n        vertical-align: top;\n    }\n\n    .dataframe thead th {\n        text-align: right;\n    }\n</style>\n<table border=\"1\" class=\"dataframe\">\n  <thead>\n    <tr style=\"text-align: right;\">\n      <th></th>\n      <th>Borough</th>\n      <th>Neighborhood</th>\n      <th>Latitude</th>\n      <th>Longitude</th>\n    </tr>\n  </thead>\n  <tbody>\n    <tr>\n      <th>0</th>\n      <td>North York</td>\n      <td>Parkwoods</td>\n      <td>43.758800</td>\n      <td>-79.320197</td>\n    </tr>\n    <tr>\n      <th>1</th>\n      <td>North York</td>\n      <td>Victoria Village</td>\n      <td>43.732658</td>\n      <td>-79.311189</td>\n    </tr>\n    <tr>\n      <th>2</th>\n      <td>Downtown Toronto</td>\n      <td>Harbourfront</td>\n      <td>43.640080</td>\n      <td>-79.380150</td>\n    </tr>\n    <tr>\n      <th>3</th>\n      <td>North York</td>\n      <td>Lawrence Heights</td>\n      <td>43.722778</td>\n      <td>-79.450933</td>\n    </tr>\n    <tr>\n      <th>4</th>\n      <td>North York</td>\n      <td>Lawrence Manor</td>\n      <td>43.722079</td>\n      <td>-79.437507</td>\n    </tr>\n  </tbody>\n</table>\n</div>",
                        "text/plain": "            Borough      Neighborhood   Latitude  Longitude\n0        North York         Parkwoods  43.758800 -79.320197\n1        North York  Victoria Village  43.732658 -79.311189\n2  Downtown Toronto      Harbourfront  43.640080 -79.380150\n3        North York  Lawrence Heights  43.722778 -79.450933\n4        North York    Lawrence Manor  43.722079 -79.437507"
                    },
                    "execution_count": 12,
                    "metadata": {},
                    "output_type": "execute_result"
                }
            ],
            "source": "#remove rows with NaN values\ntoronto_data = df.dropna().reset_index(drop=True)\nprint('Dataframe shape {}'.format(toronto_data.shape))\ntoronto_data.head()"
        },
        {
            "cell_type": "markdown",
            "metadata": {},
            "source": "### Explore Toronto Neighborhood "
        },
        {
            "cell_type": "markdown",
            "metadata": {},
            "source": "##### Count Neighborhood of each Borough."
        },
        {
            "cell_type": "code",
            "execution_count": 13,
            "metadata": {},
            "outputs": [
                {
                    "data": {
                        "text/plain": "Etobicoke           43\nNorth York          37\nScarborough         37\nDowntown Toronto    36\nCentral Toronto     17\nWest Toronto        13\nEast Toronto         6\nYork                 6\nEast York            6\nName: Borough, dtype: int64"
                    },
                    "execution_count": 13,
                    "metadata": {},
                    "output_type": "execute_result"
                }
            ],
            "source": "toronto_data['Borough'].value_counts()"
        },
        {
            "cell_type": "markdown",
            "metadata": {},
            "source": "##### Search Mosques around Toronto Neighborhood using Foursquare API."
        },
        {
            "cell_type": "code",
            "execution_count": 14,
            "metadata": {},
            "outputs": [],
            "source": "# The code was removed by Watson Studio for sharing."
        },
        {
            "cell_type": "code",
            "execution_count": 15,
            "metadata": {},
            "outputs": [],
            "source": "def getNearbyMosques(boroughs,neighborhoods, latitudes, longitudes):\n    \n    venues_list=[]\n    for borough, neighborhood, lat, lng in zip(boroughs, neighborhoods, latitudes, longitudes):\n        #print(neighborhoods)\n            \n        # create the API request URL\n        LIMIT = 100 # limit of number of venues returned by Foursquare API\n        radius = 10000 # define radius\n        search_query = 'mosque'\n        url = 'https://api.foursquare.com/v2/venues/search?&client_id={}&client_secret={}&oauth_token={}&v={}&ll={},{}&query={}&radius={}&limit={}'.format(\n            CLIENT_ID, \n            CLIENT_SECRET, \n            ACCESS_TOKEN,\n            VERSION, \n            lat, \n            lng, \n            search_query,\n            radius, \n            LIMIT)\n            \n         # make the GET request\n        results = requests.get(url).json()[\"response\"]['venues']\n        #print(results)\n        \n        # return only relevant information for each nearby venue\n        venues_list.append([(\n            borough,\n            neighborhood, \n            lat, \n            lng, \n            v['name'], \n            v['location']['lat'], \n            v['location']['lng']) for v in results])\n            #v['categories'][0]['name']) for v in results])\n\n    nearby_mosques = pd.DataFrame([item for venue_list in venues_list for item in venue_list])\n    nearby_mosques.columns = ['Boroughs',\n                             'Neighborhoods',\n                             'N_Lat',\n                             'N_Lng',\n                             'Mosques',\n                             'M_Lat',\n                             'M_Lng'] \n                  \n    \n    return(nearby_mosques)"
        },
        {
            "cell_type": "code",
            "execution_count": 16,
            "metadata": {},
            "outputs": [],
            "source": "toronto_mosques = getNearbyMosques(\n    boroughs= toronto_data['Borough'],\n    neighborhoods= toronto_data['Neighborhood'],\n    latitudes= toronto_data['Latitude'],\n    longitudes= toronto_data['Longitude']\n    )"
        },
        {
            "cell_type": "code",
            "execution_count": 17,
            "metadata": {},
            "outputs": [
                {
                    "name": "stdout",
                    "output_type": "stream",
                    "text": "(23, 7)\ntoronto_mosques shape (23, 7)\n"
                },
                {
                    "data": {
                        "text/html": "<div>\n<style scoped>\n    .dataframe tbody tr th:only-of-type {\n        vertical-align: middle;\n    }\n\n    .dataframe tbody tr th {\n        vertical-align: top;\n    }\n\n    .dataframe thead th {\n        text-align: right;\n    }\n</style>\n<table border=\"1\" class=\"dataframe\">\n  <thead>\n    <tr style=\"text-align: right;\">\n      <th></th>\n      <th>Boroughs</th>\n      <th>Neighborhoods</th>\n      <th>N_Lat</th>\n      <th>N_Lng</th>\n      <th>Mosques</th>\n      <th>M_Lat</th>\n      <th>M_Lng</th>\n    </tr>\n  </thead>\n  <tbody>\n    <tr>\n      <th>362</th>\n      <td>North York</td>\n      <td>York University</td>\n      <td>43.779242</td>\n      <td>-79.483559</td>\n      <td>Baitul Islam Mosque</td>\n      <td>43.865999</td>\n      <td>-79.534002</td>\n    </tr>\n    <tr>\n      <th>840</th>\n      <td>Central Toronto</td>\n      <td>North Midtown</td>\n      <td>43.162128</td>\n      <td>-77.619604</td>\n      <td>Hamidiye Mosque</td>\n      <td>43.160714</td>\n      <td>-77.566286</td>\n    </tr>\n    <tr>\n      <th>1080</th>\n      <td>Downtown Toronto</td>\n      <td>Railway Lands</td>\n      <td>49.266236</td>\n      <td>-123.237060</td>\n      <td>Ajyal Mosque</td>\n      <td>49.279837</td>\n      <td>-123.108489</td>\n    </tr>\n    <tr>\n      <th>1081</th>\n      <td>Downtown Toronto</td>\n      <td>South Niagara</td>\n      <td>43.072145</td>\n      <td>-79.073868</td>\n      <td>Mosque Aisha</td>\n      <td>43.094220</td>\n      <td>-79.084564</td>\n    </tr>\n    <tr>\n      <th>1123</th>\n      <td>Etobicoke</td>\n      <td>Thistletown</td>\n      <td>43.737266</td>\n      <td>-79.565317</td>\n      <td>Vaughn Islamic Community Centre Mosque</td>\n      <td>43.828300</td>\n      <td>-79.537521</td>\n    </tr>\n    <tr>\n      <th>1125</th>\n      <td>Etobicoke</td>\n      <td>Thistletown</td>\n      <td>43.737266</td>\n      <td>-79.565317</td>\n      <td>Masjid E Saliheen</td>\n      <td>43.705980</td>\n      <td>-79.644635</td>\n    </tr>\n    <tr>\n      <th>1158</th>\n      <td>Scarborough</td>\n      <td>Upper Rouge</td>\n      <td>43.804930</td>\n      <td>-79.165837</td>\n      <td>Nugget mosque</td>\n      <td>43.780834</td>\n      <td>-79.232931</td>\n    </tr>\n    <tr>\n      <th>1159</th>\n      <td>Scarborough</td>\n      <td>Upper Rouge</td>\n      <td>43.804930</td>\n      <td>-79.165837</td>\n      <td>Jame Masjid Markham</td>\n      <td>43.841908</td>\n      <td>-79.264350</td>\n    </tr>\n    <tr>\n      <th>1180</th>\n      <td>Downtown Toronto</td>\n      <td>Underground city</td>\n      <td>43.770145</td>\n      <td>-79.374863</td>\n      <td>Abu Huraira Mosque Inc (Abu Huraira Center)</td>\n      <td>43.772896</td>\n      <td>-79.334384</td>\n    </tr>\n    <tr>\n      <th>1183</th>\n      <td>Downtown Toronto</td>\n      <td>Underground city</td>\n      <td>43.770145</td>\n      <td>-79.374863</td>\n      <td>S\u00fcleymaniye Mosque Finch</td>\n      <td>43.763820</td>\n      <td>-79.482940</td>\n    </tr>\n    <tr>\n      <th>1184</th>\n      <td>Downtown Toronto</td>\n      <td>Underground city</td>\n      <td>43.770145</td>\n      <td>-79.374863</td>\n      <td>Jame Abu Bakr Siddique Masjid</td>\n      <td>43.752010</td>\n      <td>-79.262110</td>\n    </tr>\n    <tr>\n      <th>1272</th>\n      <td>Etobicoke</td>\n      <td>The Queensway East</td>\n      <td>43.609309</td>\n      <td>-79.567732</td>\n      <td>Istiqamah Islamic Centre of Ontario</td>\n      <td>43.569444</td>\n      <td>-79.650422</td>\n    </tr>\n    <tr>\n      <th>1320</th>\n      <td>Etobicoke</td>\n      <td>Royal York South West</td>\n      <td>43.648183</td>\n      <td>-79.511296</td>\n      <td>Ummah Nabawiah Mosque</td>\n      <td>43.714888</td>\n      <td>-79.568413</td>\n    </tr>\n    <tr>\n      <th>1322</th>\n      <td>Etobicoke</td>\n      <td>Royal York South West</td>\n      <td>43.648183</td>\n      <td>-79.511296</td>\n      <td>Baitul Hamd Mosque</td>\n      <td>43.637356</td>\n      <td>-79.637515</td>\n    </tr>\n    <tr>\n      <th>1324</th>\n      <td>Etobicoke</td>\n      <td>Royal York South West</td>\n      <td>43.648183</td>\n      <td>-79.511296</td>\n      <td>Anatolia Mosque</td>\n      <td>43.633208</td>\n      <td>-79.632498</td>\n    </tr>\n  </tbody>\n</table>\n</div>",
                        "text/plain": "              Boroughs           Neighborhoods      N_Lat       N_Lng  \\\n362         North York         York University  43.779242  -79.483559   \n840    Central Toronto          North Midtown\n  43.162128  -77.619604   \n1080  Downtown Toronto           Railway Lands  49.266236 -123.237060   \n1081  Downtown Toronto           South Niagara  43.072145  -79.073868   \n1123         Etobicoke             Thistletown  43.737266  -79.565317   \n1125         Etobicoke             Thistletown  43.737266  -79.565317   \n1158       Scarborough             Upper Rouge  43.804930  -79.165837   \n1159       Scarborough             Upper Rouge  43.804930  -79.165837   \n1180  Downtown Toronto        Underground city  43.770145  -79.374863   \n1183  Downtown Toronto        Underground city  43.770145  -79.374863   \n1184  Downtown Toronto        Underground city  43.770145  -79.374863   \n1272         Etobicoke      The Queensway East  43.609309  -79.567732   \n1320         Etobicoke  Royal York South West\n  43.648183  -79.511296   \n1322         Etobicoke  Royal York South West\n  43.648183  -79.511296   \n1324         Etobicoke  Royal York South West\n  43.648183  -79.511296   \n\n                                          Mosques      M_Lat       M_Lng  \n362                           Baitul Islam Mosque  43.865999  -79.534002  \n840                               Hamidiye Mosque  43.160714  -77.566286  \n1080                                 Ajyal Mosque  49.279837 -123.108489  \n1081                                 Mosque Aisha  43.094220  -79.084564  \n1123       Vaughn Islamic Community Centre Mosque  43.828300  -79.537521  \n1125                            Masjid E Saliheen  43.705980  -79.644635  \n1158                                Nugget mosque  43.780834  -79.232931  \n1159                          Jame Masjid Markham  43.841908  -79.264350  \n1180  Abu Huraira Mosque Inc (Abu Huraira Center)  43.772896  -79.334384  \n1183                     S\u00fcleymaniye Mosque Finch  43.763820  -79.482940  \n1184                Jame Abu Bakr Siddique Masjid  43.752010  -79.262110  \n1272          Istiqamah Islamic Centre of Ontario  43.569444  -79.650422  \n1320                        Ummah Nabawiah Mosque  43.714888  -79.568413  \n1322                           Baitul Hamd Mosque  43.637356  -79.637515  \n1324                              Anatolia Mosque  43.633208  -79.632498  "
                    },
                    "execution_count": 17,
                    "metadata": {},
                    "output_type": "execute_result"
                }
            ],
            "source": "toronto_mosques = toronto_mosques.drop_duplicates(subset='Mosques', keep=\"last\")\nprint(toronto_mosques.shape)\nprint('toronto_mosques shape {}'.format(toronto_mosques.shape))\ntoronto_mosques.head(15)"
        },
        {
            "cell_type": "code",
            "execution_count": 18,
            "metadata": {},
            "outputs": [
                {
                    "data": {
                        "text/html": "<div>\n<style scoped>\n    .dataframe tbody tr th:only-of-type {\n        vertical-align: middle;\n    }\n\n    .dataframe tbody tr th {\n        vertical-align: top;\n    }\n\n    .dataframe thead th {\n        text-align: right;\n    }\n</style>\n<table border=\"1\" class=\"dataframe\">\n  <thead>\n    <tr style=\"text-align: right;\">\n      <th></th>\n      <th>Neighborhoods</th>\n      <th>NoofMosque</th>\n    </tr>\n  </thead>\n  <tbody>\n    <tr>\n      <th>0</th>\n      <td>South of Bloor</td>\n      <td>8</td>\n    </tr>\n    <tr>\n      <th>1</th>\n      <td>Royal York South West</td>\n      <td>3</td>\n    </tr>\n    <tr>\n      <th>2</th>\n      <td>Underground city</td>\n      <td>3</td>\n    </tr>\n    <tr>\n      <th>3</th>\n      <td>Thistletown</td>\n      <td>2</td>\n    </tr>\n    <tr>\n      <th>4</th>\n      <td>Upper Rouge</td>\n      <td>2</td>\n    </tr>\n    <tr>\n      <th>5</th>\n      <td>North Midtown</td>\n      <td>1</td>\n    </tr>\n    <tr>\n      <th>6</th>\n      <td>York University</td>\n      <td>1</td>\n    </tr>\n    <tr>\n      <th>7</th>\n      <td>Railway Lands</td>\n      <td>1</td>\n    </tr>\n    <tr>\n      <th>8</th>\n      <td>South Niagara</td>\n      <td>1</td>\n    </tr>\n    <tr>\n      <th>9</th>\n      <td>The Queensway East</td>\n      <td>1</td>\n    </tr>\n  </tbody>\n</table>\n</div>",
                        "text/plain": "            Neighborhoods  NoofMosque\n0         South of Bloor\n           8\n1  Royal York South West\n           3\n2        Underground city           3\n3             Thistletown           2\n4             Upper Rouge           2\n5          North Midtown\n           1\n6         York University           1\n7           Railway Lands           1\n8           South Niagara           1\n9      The Queensway East           1"
                    },
                    "execution_count": 18,
                    "metadata": {},
                    "output_type": "execute_result"
                }
            ],
            "source": "mosque_count = pd.DataFrame(toronto_mosques['Neighborhoods'].value_counts())\nmosque_count = mosque_count.reset_index()\nmosque_count.rename(columns={'index':'Neighborhoods','Neighborhoods':'NoofMosque'},inplace = True)\nmosque_count"
        },
        {
            "cell_type": "code",
            "execution_count": 19,
            "metadata": {},
            "outputs": [
                {
                    "data": {
                        "text/html": "<div>\n<style scoped>\n    .dataframe tbody tr th:only-of-type {\n        vertical-align: middle;\n    }\n\n    .dataframe tbody tr th {\n        vertical-align: top;\n    }\n\n    .dataframe thead th {\n        text-align: right;\n    }\n</style>\n<table border=\"1\" class=\"dataframe\">\n  <thead>\n    <tr style=\"text-align: right;\">\n      <th></th>\n      <th>Boroughs</th>\n      <th>Neighborhoods</th>\n      <th>NoofMosque</th>\n    </tr>\n  </thead>\n  <tbody>\n    <tr>\n      <th>0</th>\n      <td>North York</td>\n      <td>York University</td>\n      <td>1</td>\n    </tr>\n    <tr>\n      <th>1</th>\n      <td>Central Toronto</td>\n      <td>North Midtown</td>\n      <td>1</td>\n    </tr>\n    <tr>\n      <th>2</th>\n      <td>Downtown Toronto</td>\n      <td>Railway Lands</td>\n      <td>1</td>\n    </tr>\n    <tr>\n      <th>3</th>\n      <td>Downtown Toronto</td>\n      <td>South Niagara</td>\n      <td>1</td>\n    </tr>\n    <tr>\n      <th>4</th>\n      <td>Etobicoke</td>\n      <td>Thistletown</td>\n      <td>2</td>\n    </tr>\n  </tbody>\n</table>\n</div>",
                        "text/plain": "           Boroughs    Neighborhoods  NoofMosque\n0        North York  York University           1\n1   Central Toronto   North Midtown\n           1\n2  Downtown Toronto    Railway Lands           1\n3  Downtown Toronto    South Niagara           1\n4         Etobicoke      Thistletown           2"
                    },
                    "execution_count": 19,
                    "metadata": {},
                    "output_type": "execute_result"
                }
            ],
            "source": "#merge dataframe\nmosque_count = toronto_mosques.merge(mosque_count).drop(['N_Lat','N_Lng','Mosques','M_Lat','M_Lng'], axis=1)\nmosque_count.head()"
        },
        {
            "cell_type": "markdown",
            "metadata": {},
            "source": "##### Search Halal Restaurants Nearby Mosques using Foursquare API."
        },
        {
            "cell_type": "code",
            "execution_count": 21,
            "metadata": {},
            "outputs": [],
            "source": "def getNearbyRestaurants(boroughs,neighborhoods, mosques, latitudes, longitudes):\n    \n    venues_list=[]\n    for borough, neighborhood, mosque, lat, lng in zip(boroughs, neighborhoods, mosques, latitudes, longitudes):\n                    \n        # create the API request URL\n        LIMIT = 100 # limit of number of venues returned by Foursquare API\n        radius = 500 # define radius\n        search_query = 'Halal Restaurant'\n        url = 'https://api.foursquare.com/v2/venues/search?&client_id={}&client_secret={}&v={}&ll={},{}&query={}&radius={}&limit={}'.format(\n            CLIENT_ID, \n            CLIENT_SECRET, \n            VERSION, \n            lat, \n            lng, \n            search_query,\n            radius, \n            LIMIT)\n        #print(url)\n            \n         # make the GET request\n        results = requests.get(url).json()[\"response\"]['venues']\n        \n        # return only relevant information for each nearby venue\n        venues_list.append([(\n            borough,\n            neighborhood,\n            mosque,\n            lat, \n            lng, \n            v['name'], \n            v['location']['lat'], \n            v['location']['lng']) for v in results])  \n\n    nearby_resturants = pd.DataFrame([item for venue_list in venues_list for item in venue_list])\n    nearby_resturants.columns = ['Boroughs', \n                                 'Neighborhoods',\n                  'Mosques',\n                  'M_Lat', \n                  'M_Lng', \n                  'Halal Restaurants', \n                  'R_Lat', \n                  'R_Lng'] \n                    \n    return(nearby_resturants)"
        },
        {
            "cell_type": "code",
            "execution_count": 22,
            "metadata": {},
            "outputs": [],
            "source": "toronto_halal = getNearbyRestaurants(\n    boroughs= toronto_mosques['Boroughs'],\n    neighborhoods= toronto_mosques['Neighborhoods'],\n    mosques= toronto_mosques['Mosques'],\n    latitudes= toronto_mosques['M_Lat'],\n    longitudes= toronto_mosques['M_Lng']\n    )\n"
        },
        {
            "cell_type": "code",
            "execution_count": 23,
            "metadata": {},
            "outputs": [
                {
                    "name": "stdout",
                    "output_type": "stream",
                    "text": "(130, 8)\n"
                },
                {
                    "data": {
                        "text/html": "<div>\n<style scoped>\n    .dataframe tbody tr th:only-of-type {\n        vertical-align: middle;\n    }\n\n    .dataframe tbody tr th {\n        vertical-align: top;\n    }\n\n    .dataframe thead th {\n        text-align: right;\n    }\n</style>\n<table border=\"1\" class=\"dataframe\">\n  <thead>\n    <tr style=\"text-align: right;\">\n      <th></th>\n      <th>Boroughs</th>\n      <th>Neighborhoods</th>\n      <th>Mosques</th>\n      <th>M_Lat</th>\n      <th>M_Lng</th>\n      <th>Halal Restaurants</th>\n      <th>R_Lat</th>\n      <th>R_Lng</th>\n    </tr>\n  </thead>\n  <tbody>\n    <tr>\n      <th>0</th>\n      <td>Central Toronto</td>\n      <td>North Midtown</td>\n      <td>Hamidiye Mosque</td>\n      <td>43.160714</td>\n      <td>-77.566286</td>\n      <td>Jamaican Restaurant</td>\n      <td>43.160168</td>\n      <td>-77.570656</td>\n    </tr>\n    <tr>\n      <th>1</th>\n      <td>Central Toronto</td>\n      <td>North Midtown</td>\n      <td>Hamidiye Mosque</td>\n      <td>43.160714</td>\n      <td>-77.566286</td>\n      <td>Carroll's</td>\n      <td>43.160017</td>\n      <td>-77.563975</td>\n    </tr>\n    <tr>\n      <th>2</th>\n      <td>Central Toronto</td>\n      <td>North Midtown</td>\n      <td>Hamidiye Mosque</td>\n      <td>43.160714</td>\n      <td>-77.566286</td>\n      <td>Win Wah Chinese Restaurant, Rochester</td>\n      <td>43.159832</td>\n      <td>-77.559790</td>\n    </tr>\n    <tr>\n      <th>3</th>\n      <td>Central Toronto</td>\n      <td>North Midtown</td>\n      <td>Hamidiye Mosque</td>\n      <td>43.160714</td>\n      <td>-77.566286</td>\n      <td>Chang Lung Chinese Restaurant</td>\n      <td>43.163400</td>\n      <td>-77.563753</td>\n    </tr>\n    <tr>\n      <th>4</th>\n      <td>Downtown Toronto</td>\n      <td>Railway Lands</td>\n      <td>Ajyal Mosque</td>\n      <td>49.279837</td>\n      <td>-123.108489</td>\n      <td>Yagger's Downtown Restaurant &amp; Sports Bar</td>\n      <td>49.283161</td>\n      <td>-123.112503</td>\n    </tr>\n  </tbody>\n</table>\n</div>",
                        "text/plain": "           Boroughs   Neighborhoods          Mosques      M_Lat       M_Lng  \\\n0   Central Toronto  North Midtown\n  Hamidiye Mosque  43.160714  -77.566286   \n1   Central Toronto  North Midtown\n  Hamidiye Mosque  43.160714  -77.566286   \n2   Central Toronto  North Midtown\n  Hamidiye Mosque  43.160714  -77.566286   \n3   Central Toronto  North Midtown\n  Hamidiye Mosque  43.160714  -77.566286   \n4  Downtown Toronto   Railway Lands     Ajyal Mosque  49.279837 -123.108489   \n\n                           Halal Restaurants      R_Lat       R_Lng  \n0                        Jamaican Restaurant  43.160168  -77.570656  \n1                                  Carroll's  43.160017  -77.563975  \n2      Win Wah Chinese Restaurant, Rochester  43.159832  -77.559790  \n3              Chang Lung Chinese Restaurant  43.163400  -77.563753  \n4  Yagger's Downtown Restaurant & Sports Bar  49.283161 -123.112503  "
                    },
                    "execution_count": 23,
                    "metadata": {},
                    "output_type": "execute_result"
                }
            ],
            "source": "toronto_halal = toronto_halal.drop_duplicates(subset='Halal Restaurants', keep=\"last\")\nprint(toronto_halal.shape)\ntoronto_halal.head()"
        },
        {
            "cell_type": "code",
            "execution_count": 24,
            "metadata": {},
            "outputs": [
                {
                    "data": {
                        "text/html": "<div>\n<style scoped>\n    .dataframe tbody tr th:only-of-type {\n        vertical-align: middle;\n    }\n\n    .dataframe tbody tr th {\n        vertical-align: top;\n    }\n\n    .dataframe thead th {\n        text-align: right;\n    }\n</style>\n<table border=\"1\" class=\"dataframe\">\n  <thead>\n    <tr style=\"text-align: right;\">\n      <th></th>\n      <th>Mosques</th>\n      <th>NoofHalalRestaurant</th>\n    </tr>\n  </thead>\n  <tbody>\n    <tr>\n      <th>0</th>\n      <td>Omar Bin Khattab Mosque</td>\n      <td>35</td>\n    </tr>\n    <tr>\n      <th>1</th>\n      <td>Ajyal Mosque</td>\n      <td>30</td>\n    </tr>\n    <tr>\n      <th>2</th>\n      <td>Hamza Mosque</td>\n      <td>9</td>\n    </tr>\n    <tr>\n      <th>3</th>\n      <td>Jame Abu Bakr Siddique Masjid</td>\n      <td>7</td>\n    </tr>\n    <tr>\n      <th>4</th>\n      <td>Mosque Aisha</td>\n      <td>6</td>\n    </tr>\n    <tr>\n      <th>5</th>\n      <td>Baitul Aman Mosque</td>\n      <td>6</td>\n    </tr>\n    <tr>\n      <th>6</th>\n      <td>Mosque</td>\n      <td>5</td>\n    </tr>\n    <tr>\n      <th>7</th>\n      <td>S\u00fcleymaniye Mosque Finch</td>\n      <td>5</td>\n    </tr>\n    <tr>\n      <th>8</th>\n      <td>Masjid E Saliheen</td>\n      <td>5</td>\n    </tr>\n    <tr>\n      <th>9</th>\n      <td>Hamidiye Mosque</td>\n      <td>4</td>\n    </tr>\n    <tr>\n      <th>10</th>\n      <td>Vaughn Islamic Community Centre Mosque</td>\n      <td>4</td>\n    </tr>\n    <tr>\n      <th>11</th>\n      <td>Abu Huraira Mosque Inc (Abu Huraira Center)</td>\n      <td>3</td>\n    </tr>\n    <tr>\n      <th>12</th>\n      <td>Bosnian Mosque Birmingham</td>\n      <td>3</td>\n    </tr>\n    <tr>\n      <th>13</th>\n      <td>Toronto Mosque</td>\n      <td>3</td>\n    </tr>\n    <tr>\n      <th>14</th>\n      <td>Mevlana Mosque</td>\n      <td>1</td>\n    </tr>\n    <tr>\n      <th>15</th>\n      <td>Ummah Nabawiah Mosque</td>\n      <td>1</td>\n    </tr>\n    <tr>\n      <th>16</th>\n      <td>Baitul Hamd Mosque</td>\n      <td>1</td>\n    </tr>\n    <tr>\n      <th>17</th>\n      <td>Nugget mosque</td>\n      <td>1</td>\n    </tr>\n    <tr>\n      <th>18</th>\n      <td>Istiqamah Islamic Centre of Ontario</td>\n      <td>1</td>\n    </tr>\n  </tbody>\n</table>\n</div>",
                        "text/plain": "                                        Mosques  NoofHalalRestaurant\n0                       Omar Bin Khattab Mosque                   35\n1                                  Ajyal Mosque                   30\n2                                  Hamza Mosque                    9\n3                 Jame Abu Bakr Siddique Masjid                    7\n4                                  Mosque Aisha                    6\n5                            Baitul Aman Mosque                    6\n6                                        Mosque                    5\n7                      S\u00fcleymaniye Mosque Finch                    5\n8                             Masjid E Saliheen                    5\n9                               Hamidiye Mosque                    4\n10       Vaughn Islamic Community Centre Mosque                    4\n11  Abu Huraira Mosque Inc (Abu Huraira Center)                    3\n12                    Bosnian Mosque Birmingham                    3\n13                               Toronto Mosque                    3\n14                               Mevlana Mosque                    1\n15                        Ummah Nabawiah Mosque                    1\n16                           Baitul Hamd Mosque                    1\n17                                Nugget mosque                    1\n18          Istiqamah Islamic Centre of Ontario                    1"
                    },
                    "execution_count": 24,
                    "metadata": {},
                    "output_type": "execute_result"
                }
            ],
            "source": "halal_count = pd.DataFrame(toronto_halal['Mosques'].value_counts())\nhalal_count = halal_count.reset_index()\nhalal_count.rename(columns={'index':'Mosques','Mosques':'NoofHalalRestaurant'}, inplace = True)\nhalal_count"
        },
        {
            "cell_type": "code",
            "execution_count": 25,
            "metadata": {},
            "outputs": [
                {
                    "data": {
                        "text/html": "<div>\n<style scoped>\n    .dataframe tbody tr th:only-of-type {\n        vertical-align: middle;\n    }\n\n    .dataframe tbody tr th {\n        vertical-align: top;\n    }\n\n    .dataframe thead th {\n        text-align: right;\n    }\n</style>\n<table border=\"1\" class=\"dataframe\">\n  <thead>\n    <tr style=\"text-align: right;\">\n      <th></th>\n      <th>Boroughs</th>\n      <th>Neighborhoods</th>\n      <th>Mosques</th>\n      <th>NoofHalalRestaurant</th>\n    </tr>\n  </thead>\n  <tbody>\n    <tr>\n      <th>0</th>\n      <td>Central Toronto</td>\n      <td>North Midtown</td>\n      <td>Hamidiye Mosque</td>\n      <td>4</td>\n    </tr>\n    <tr>\n      <th>1</th>\n      <td>Central Toronto</td>\n      <td>North Midtown</td>\n      <td>Hamidiye Mosque</td>\n      <td>4</td>\n    </tr>\n    <tr>\n      <th>2</th>\n      <td>Central Toronto</td>\n      <td>North Midtown</td>\n      <td>Hamidiye Mosque</td>\n      <td>4</td>\n    </tr>\n    <tr>\n      <th>3</th>\n      <td>Central Toronto</td>\n      <td>North Midtown</td>\n      <td>Hamidiye Mosque</td>\n      <td>4</td>\n    </tr>\n    <tr>\n      <th>4</th>\n      <td>Downtown Toronto</td>\n      <td>Railway Lands</td>\n      <td>Ajyal Mosque</td>\n      <td>30</td>\n    </tr>\n  </tbody>\n</table>\n</div>",
                        "text/plain": "           Boroughs   Neighborhoods          Mosques  NoofHalalRestaurant\n0   Central Toronto  North Midtown\n  Hamidiye Mosque                    4\n1   Central Toronto  North Midtown\n  Hamidiye Mosque                    4\n2   Central Toronto  North Midtown\n  Hamidiye Mosque                    4\n3   Central Toronto  North Midtown\n  Hamidiye Mosque                    4\n4  Downtown Toronto   Railway Lands     Ajyal Mosque                   30"
                    },
                    "execution_count": 25,
                    "metadata": {},
                    "output_type": "execute_result"
                }
            ],
            "source": "#merge dataframe\nhalal_count = toronto_halal.merge(halal_count).drop(['M_Lat','M_Lng','Halal Restaurants','R_Lat','R_Lng'], axis=1)\nhalal_count.head()"
        },
        {
            "cell_type": "markdown",
            "metadata": {},
            "source": "##### Search markets, groceries store, etc around neighborhood."
        },
        {
            "cell_type": "code",
            "execution_count": 58,
            "metadata": {},
            "outputs": [],
            "source": "def getNearbyMarkets(boroughs, neighborhoods, mosques, latitudes, longitudes):\n    \n    markets_list=[]\n    for borough, neighborhood, mosque, lat, lng in zip(boroughs, neighborhoods, mosques, latitudes, longitudes):\n    \n            \n        # create the API request URL\n        LIMIT = 100 # limit of number of venues returned by Foursquare API\n        radius = 500 # define radius\n        search_query = 'Market'\n        url = 'https://api.foursquare.com/v2/venues/search?&client_id={}&client_secret={}&v={}&ll={},{}&query={}&radius={}&limit={}'.format(\n            CLIENT_ID, \n            CLIENT_SECRET, \n            VERSION, \n            lat, \n            lng, \n            search_query,\n            radius, \n            LIMIT)\n        #print(url)\n        \n            \n         # make the GET request\n        results = requests.get(url).json()[\"response\"]['venues']\n        #print(results)\n\n        # return only relevant information for each nearby venue\n        markets_list.append([(\n            borough, \n            neighborhood,\n            mosque,\n            lat, \n            lng, \n            v['name'], \n            v['location']['lat'], \n            v['location']['lng'])for v in results])\n       \n    \n    nearby_markets = pd.DataFrame([item for market_list in markets_list for item in market_list])\n    nearby_markets.columns = [\n        'Boroughs',\n        'Neighborhoods',\n        'Mosques',\n        'M_Lat',\n        'M_Lng',\n        'Markets',\n        'Mr_Lat',\n        'Mr_Lng'] \n                  \n    \n    return(nearby_markets)"
        },
        {
            "cell_type": "code",
            "execution_count": 59,
            "metadata": {},
            "outputs": [],
            "source": "toronto_market = getNearbyMarkets(\n    boroughs= toronto_mosques['Boroughs'],\n    neighborhoods= toronto_mosques['Neighborhoods'],\n    mosques= toronto_mosques['Mosques'],\n    latitudes= toronto_mosques['M_Lat'],\n    longitudes= toronto_mosques['M_Lng']\n    )"
        },
        {
            "cell_type": "code",
            "execution_count": 60,
            "metadata": {},
            "outputs": [
                {
                    "name": "stdout",
                    "output_type": "stream",
                    "text": "(97, 8)\n"
                },
                {
                    "data": {
                        "text/html": "<div>\n<style scoped>\n    .dataframe tbody tr th:only-of-type {\n        vertical-align: middle;\n    }\n\n    .dataframe tbody tr th {\n        vertical-align: top;\n    }\n\n    .dataframe thead th {\n        text-align: right;\n    }\n</style>\n<table border=\"1\" class=\"dataframe\">\n  <thead>\n    <tr style=\"text-align: right;\">\n      <th></th>\n      <th>Boroughs</th>\n      <th>Neighborhoods</th>\n      <th>Mosques</th>\n      <th>M_Lat</th>\n      <th>M_Lng</th>\n      <th>Markets</th>\n      <th>Mr_Lat</th>\n      <th>Mr_Lng</th>\n    </tr>\n  </thead>\n  <tbody>\n    <tr>\n      <th>0</th>\n      <td>Central Toronto</td>\n      <td>North Midtown</td>\n      <td>Hamidiye Mosque</td>\n      <td>43.160714</td>\n      <td>-77.566286</td>\n      <td>The Insurance Market Place</td>\n      <td>43.162029</td>\n      <td>-77.565576</td>\n    </tr>\n    <tr>\n      <th>1</th>\n      <td>Central Toronto</td>\n      <td>North Midtown</td>\n      <td>Hamidiye Mosque</td>\n      <td>43.160714</td>\n      <td>-77.566286</td>\n      <td>Ariana Super Market</td>\n      <td>43.164597</td>\n      <td>-77.563972</td>\n    </tr>\n    <tr>\n      <th>2</th>\n      <td>Central Toronto</td>\n      <td>North Midtown</td>\n      <td>Hamidiye Mosque</td>\n      <td>43.160714</td>\n      <td>-77.566286</td>\n      <td>Cal's Liquor</td>\n      <td>43.164074</td>\n      <td>-77.564241</td>\n    </tr>\n    <tr>\n      <th>3</th>\n      <td>Downtown Toronto</td>\n      <td>Railway Lands</td>\n      <td>Ajyal Mosque</td>\n      <td>49.279837</td>\n      <td>-123.108489</td>\n      <td>Nesters Market</td>\n      <td>49.282677</td>\n      <td>-123.107602</td>\n    </tr>\n    <tr>\n      <th>4</th>\n      <td>Downtown Toronto</td>\n      <td>Railway Lands</td>\n      <td>Ajyal Mosque</td>\n      <td>49.279837</td>\n      <td>-123.108489</td>\n      <td>Seiffert Market</td>\n      <td>49.281417</td>\n      <td>-123.110982</td>\n    </tr>\n  </tbody>\n</table>\n</div>",
                        "text/plain": "           Boroughs   Neighborhoods          Mosques      M_Lat       M_Lng  \\\n0   Central Toronto  North Midtown\n  Hamidiye Mosque  43.160714  -77.566286   \n1   Central Toronto  North Midtown\n  Hamidiye Mosque  43.160714  -77.566286   \n2   Central Toronto  North Midtown\n  Hamidiye Mosque  43.160714  -77.566286   \n3  Downtown Toronto   Railway Lands     Ajyal Mosque  49.279837 -123.108489   \n4  Downtown Toronto   Railway Lands     Ajyal Mosque  49.279837 -123.108489   \n\n                      Markets     Mr_Lat      Mr_Lng  \n0  The Insurance Market Place  43.162029  -77.565576  \n1         Ariana Super Market  43.164597  -77.563972  \n2                Cal's Liquor  43.164074  -77.564241  \n3              Nesters Market  49.282677 -123.107602  \n4             Seiffert Market  49.281417 -123.110982  "
                    },
                    "execution_count": 60,
                    "metadata": {},
                    "output_type": "execute_result"
                }
            ],
            "source": "toronto_market = toronto_market.drop_duplicates(subset='Markets', keep=\"last\")\nprint(toronto_market.shape)\ntoronto_market.head()"
        },
        {
            "cell_type": "code",
            "execution_count": 61,
            "metadata": {},
            "outputs": [
                {
                    "data": {
                        "text/html": "<div>\n<style scoped>\n    .dataframe tbody tr th:only-of-type {\n        vertical-align: middle;\n    }\n\n    .dataframe tbody tr th {\n        vertical-align: top;\n    }\n\n    .dataframe thead th {\n        text-align: right;\n    }\n</style>\n<table border=\"1\" class=\"dataframe\">\n  <thead>\n    <tr style=\"text-align: right;\">\n      <th></th>\n      <th>Neighborhoods</th>\n      <th>NoofMarket</th>\n    </tr>\n  </thead>\n  <tbody>\n    <tr>\n      <th>0</th>\n      <td>South of Bloor</td>\n      <td>53</td>\n    </tr>\n    <tr>\n      <th>1</th>\n      <td>Railway Lands</td>\n      <td>31</td>\n    </tr>\n    <tr>\n      <th>2</th>\n      <td>North Midtown</td>\n      <td>3</td>\n    </tr>\n    <tr>\n      <th>3</th>\n      <td>Thistletown</td>\n      <td>3</td>\n    </tr>\n    <tr>\n      <th>4</th>\n      <td>Underground city</td>\n      <td>3</td>\n    </tr>\n    <tr>\n      <th>5</th>\n      <td>Upper Rouge</td>\n      <td>2</td>\n    </tr>\n    <tr>\n      <th>6</th>\n      <td>South Niagara</td>\n      <td>1</td>\n    </tr>\n    <tr>\n      <th>7</th>\n      <td>Royal York South West</td>\n      <td>1</td>\n    </tr>\n  </tbody>\n</table>\n</div>",
                        "text/plain": "            Neighborhoods  NoofMarket\n0         South of Bloor\n          53\n1           Railway Lands          31\n2          North Midtown\n           3\n3             Thistletown           3\n4        Underground city           3\n5             Upper Rouge           2\n6           South Niagara           1\n7  Royal York South West\n           1"
                    },
                    "execution_count": 61,
                    "metadata": {},
                    "output_type": "execute_result"
                }
            ],
            "source": "market_count = pd.DataFrame(toronto_market['Neighborhoods'].value_counts())\nmarket_count = market_count.reset_index()\nmarket_count.rename(columns={'index':'Neighborhoods','Neighborhoods':'NoofMarket'}, inplace = True)\nmarket_count"
        },
        {
            "cell_type": "code",
            "execution_count": 62,
            "metadata": {},
            "outputs": [
                {
                    "data": {
                        "text/html": "<div>\n<style scoped>\n    .dataframe tbody tr th:only-of-type {\n        vertical-align: middle;\n    }\n\n    .dataframe tbody tr th {\n        vertical-align: top;\n    }\n\n    .dataframe thead th {\n        text-align: right;\n    }\n</style>\n<table border=\"1\" class=\"dataframe\">\n  <thead>\n    <tr style=\"text-align: right;\">\n      <th></th>\n      <th>Boroughs</th>\n      <th>Neighborhoods</th>\n      <th>NoofMarket</th>\n    </tr>\n  </thead>\n  <tbody>\n    <tr>\n      <th>0</th>\n      <td>Central Toronto</td>\n      <td>North Midtown</td>\n      <td>3</td>\n    </tr>\n    <tr>\n      <th>1</th>\n      <td>Central Toronto</td>\n      <td>North Midtown</td>\n      <td>3</td>\n    </tr>\n    <tr>\n      <th>2</th>\n      <td>Central Toronto</td>\n      <td>North Midtown</td>\n      <td>3</td>\n    </tr>\n    <tr>\n      <th>3</th>\n      <td>Downtown Toronto</td>\n      <td>Railway Lands</td>\n      <td>31</td>\n    </tr>\n    <tr>\n      <th>4</th>\n      <td>Downtown Toronto</td>\n      <td>Railway Lands</td>\n      <td>31</td>\n    </tr>\n  </tbody>\n</table>\n</div>",
                        "text/plain": "           Boroughs   Neighborhoods  NoofMarket\n0   Central Toronto  North Midtown\n           3\n1   Central Toronto  North Midtown\n           3\n2   Central Toronto  North Midtown\n           3\n3  Downtown Toronto   Railway Lands          31\n4  Downtown Toronto   Railway Lands          31"
                    },
                    "execution_count": 62,
                    "metadata": {},
                    "output_type": "execute_result"
                }
            ],
            "source": "#merge dataframe\nmarket_count = toronto_market.merge(market_count).drop(['Mosques','M_Lat','M_Lng','Markets','Mr_Lat','Mr_Lng'], axis=1)\nmarket_count.head()"
        },
        {
            "cell_type": "markdown",
            "metadata": {},
            "source": "### Data Visualisation"
        },
        {
            "cell_type": "code",
            "execution_count": 65,
            "metadata": {},
            "outputs": [
                {
                    "data": {
                        "text/html": "\n    <div class=\"bk-root\">\n        <a href=\"https://bokeh.pydata.org\" target=\"_blank\" class=\"bk-logo bk-logo-small bk-logo-notebook\"></a>\n        <span id=\"1536\">Loading BokehJS ...</span>\n    </div>"
                    },
                    "metadata": {},
                    "output_type": "display_data"
                },
                {
                    "data": {
                        "application/javascript": "\n(function(root) {\n  function now() {\n    return new Date();\n  }\n\n  var force = true;\n\n  if (typeof (root._bokeh_onload_callbacks) === \"undefined\" || force === true) {\n    root._bokeh_onload_callbacks = [];\n    root._bokeh_is_loading = undefined;\n  }\n\n  var JS_MIME_TYPE = 'application/javascript';\n  var HTML_MIME_TYPE = 'text/html';\n  var EXEC_MIME_TYPE = 'application/vnd.bokehjs_exec.v0+json';\n  var CLASS_NAME = 'output_bokeh rendered_html';\n\n  /**\n   * Render data to the DOM node\n   */\n  function render(props, node) {\n    var script = document.createElement(\"script\");\n    node.appendChild(script);\n  }\n\n  /**\n   * Handle when an output is cleared or removed\n   */\n  function handleClearOutput(event, handle) {\n    var cell = handle.cell;\n\n    var id = cell.output_area._bokeh_element_id;\n    var server_id = cell.output_area._bokeh_server_id;\n    // Clean up Bokeh references\n    if (id != null && id in Bokeh.index) {\n      Bokeh.index[id].model.document.clear();\n      delete Bokeh.index[id];\n    }\n\n    if (server_id !== undefined) {\n      // Clean up Bokeh references\n      var cmd = \"from bokeh.io.state import curstate; print(curstate().uuid_to_server['\" + server_id + \"'].get_sessions()[0].document.roots[0]._id)\";\n      cell.notebook.kernel.execute(cmd, {\n        iopub: {\n          output: function(msg) {\n            var id = msg.content.text.trim();\n            if (id in Bokeh.index) {\n              Bokeh.index[id].model.document.clear();\n              delete Bokeh.index[id];\n            }\n          }\n        }\n      });\n      // Destroy server and session\n      var cmd = \"import bokeh.io.notebook as ion; ion.destroy_server('\" + server_id + \"')\";\n      cell.notebook.kernel.execute(cmd);\n    }\n  }\n\n  /**\n   * Handle when a new output is added\n   */\n  function handleAddOutput(event, handle) {\n    var output_area = handle.output_area;\n    var output = handle.output;\n\n    // limit handleAddOutput to display_data with EXEC_MIME_TYPE content only\n    if ((output.output_type != \"display_data\") || (!output.data.hasOwnProperty(EXEC_MIME_TYPE))) {\n      return\n    }\n\n    var toinsert = output_area.element.find(\".\" + CLASS_NAME.split(' ')[0]);\n\n    if (output.metadata[EXEC_MIME_TYPE][\"id\"] !== undefined) {\n      toinsert[toinsert.length - 1].firstChild.textContent = output.data[JS_MIME_TYPE];\n      // store reference to embed id on output_area\n      output_area._bokeh_element_id = output.metadata[EXEC_MIME_TYPE][\"id\"];\n    }\n    if (output.metadata[EXEC_MIME_TYPE][\"server_id\"] !== undefined) {\n      var bk_div = document.createElement(\"div\");\n      bk_div.innerHTML = output.data[HTML_MIME_TYPE];\n      var script_attrs = bk_div.children[0].attributes;\n      for (var i = 0; i < script_attrs.length; i++) {\n        toinsert[toinsert.length - 1].firstChild.setAttribute(script_attrs[i].name, script_attrs[i].value);\n      }\n      // store reference to server id on output_area\n      output_area._bokeh_server_id = output.metadata[EXEC_MIME_TYPE][\"server_id\"];\n    }\n  }\n\n  function register_renderer(events, OutputArea) {\n\n    function append_mime(data, metadata, element) {\n      // create a DOM node to render to\n      var toinsert = this.create_output_subarea(\n        metadata,\n        CLASS_NAME,\n        EXEC_MIME_TYPE\n      );\n      this.keyboard_manager.register_events(toinsert);\n      // Render to node\n      var props = {data: data, metadata: metadata[EXEC_MIME_TYPE]};\n      render(props, toinsert[toinsert.length - 1]);\n      element.append(toinsert);\n      return toinsert\n    }\n\n    /* Handle when an output is cleared or removed */\n    events.on('clear_output.CodeCell', handleClearOutput);\n    events.on('delete.Cell', handleClearOutput);\n\n    /* Handle when a new output is added */\n    events.on('output_added.OutputArea', handleAddOutput);\n\n    /**\n     * Register the mime type and append_mime function with output_area\n     */\n    OutputArea.prototype.register_mime_type(EXEC_MIME_TYPE, append_mime, {\n      /* Is output safe? */\n      safe: true,\n      /* Index of renderer in `output_area.display_order` */\n      index: 0\n    });\n  }\n\n  // register the mime type if in Jupyter Notebook environment and previously unregistered\n  if (root.Jupyter !== undefined) {\n    var events = require('base/js/events');\n    var OutputArea = require('notebook/js/outputarea').OutputArea;\n\n    if (OutputArea.prototype.mime_types().indexOf(EXEC_MIME_TYPE) == -1) {\n      register_renderer(events, OutputArea);\n    }\n  }\n\n  \n  if (typeof (root._bokeh_timeout) === \"undefined\" || force === true) {\n    root._bokeh_timeout = Date.now() + 5000;\n    root._bokeh_failed_load = false;\n  }\n\n  var NB_LOAD_WARNING = {'data': {'text/html':\n     \"<div style='background-color: #fdd'>\\n\"+\n     \"<p>\\n\"+\n     \"BokehJS does not appear to have successfully loaded. If loading BokehJS from CDN, this \\n\"+\n     \"may be due to a slow or bad network connection. Possible fixes:\\n\"+\n     \"</p>\\n\"+\n     \"<ul>\\n\"+\n     \"<li>re-rerun `output_notebook()` to attempt to load from CDN again, or</li>\\n\"+\n     \"<li>use INLINE resources instead, as so:</li>\\n\"+\n     \"</ul>\\n\"+\n     \"<code>\\n\"+\n     \"from bokeh.resources import INLINE\\n\"+\n     \"output_notebook(resources=INLINE)\\n\"+\n     \"</code>\\n\"+\n     \"</div>\"}};\n\n  function display_loaded() {\n    var el = document.getElementById(\"1536\");\n    if (el != null) {\n      el.textContent = \"BokehJS is loading...\";\n    }\n    if (root.Bokeh !== undefined) {\n      if (el != null) {\n        el.textContent = \"BokehJS \" + root.Bokeh.version + \" successfully loaded.\";\n      }\n    } else if (Date.now() < root._bokeh_timeout) {\n      setTimeout(display_loaded, 100)\n    }\n  }\n\n\n  function run_callbacks() {\n    try {\n      root._bokeh_onload_callbacks.forEach(function(callback) { callback() });\n    }\n    finally {\n      delete root._bokeh_onload_callbacks\n    }\n    console.info(\"Bokeh: all callbacks have finished\");\n  }\n\n  function load_libs(js_urls, callback) {\n    root._bokeh_onload_callbacks.push(callback);\n    if (root._bokeh_is_loading > 0) {\n      console.log(\"Bokeh: BokehJS is being loaded, scheduling callback at\", now());\n      return null;\n    }\n    if (js_urls == null || js_urls.length === 0) {\n      run_callbacks();\n      return null;\n    }\n    console.log(\"Bokeh: BokehJS not loaded, scheduling load and callback at\", now());\n    root._bokeh_is_loading = js_urls.length;\n    for (var i = 0; i < js_urls.length; i++) {\n      var url = js_urls[i];\n      var s = document.createElement('script');\n      s.src = url;\n      s.async = false;\n      s.onreadystatechange = s.onload = function() {\n        root._bokeh_is_loading--;\n        if (root._bokeh_is_loading === 0) {\n          console.log(\"Bokeh: all BokehJS libraries loaded\");\n          run_callbacks()\n        }\n      };\n      s.onerror = function() {\n        console.warn(\"failed to load library \" + url);\n      };\n      console.log(\"Bokeh: injecting script tag for BokehJS library: \", url);\n      document.getElementsByTagName(\"head\")[0].appendChild(s);\n    }\n  };var element = document.getElementById(\"1536\");\n  if (element == null) {\n    console.log(\"Bokeh: ERROR: autoload.js configured with elementid '1536' but no matching script tag was found. \")\n    return false;\n  }\n\n  var js_urls = [\"https://cdn.pydata.org/bokeh/release/bokeh-1.0.4.min.js\", \"https://cdn.pydata.org/bokeh/release/bokeh-widgets-1.0.4.min.js\", \"https://cdn.pydata.org/bokeh/release/bokeh-tables-1.0.4.min.js\", \"https://cdn.pydata.org/bokeh/release/bokeh-gl-1.0.4.min.js\"];\n\n  var inline_js = [\n    function(Bokeh) {\n      Bokeh.set_log_level(\"info\");\n    },\n    \n    function(Bokeh) {\n      \n    },\n    function(Bokeh) {\n      console.log(\"Bokeh: injecting CSS: https://cdn.pydata.org/bokeh/release/bokeh-1.0.4.min.css\");\n      Bokeh.embed.inject_css(\"https://cdn.pydata.org/bokeh/release/bokeh-1.0.4.min.css\");\n      console.log(\"Bokeh: injecting CSS: https://cdn.pydata.org/bokeh/release/bokeh-widgets-1.0.4.min.css\");\n      Bokeh.embed.inject_css(\"https://cdn.pydata.org/bokeh/release/bokeh-widgets-1.0.4.min.css\");\n      console.log(\"Bokeh: injecting CSS: https://cdn.pydata.org/bokeh/release/bokeh-tables-1.0.4.min.css\");\n      Bokeh.embed.inject_css(\"https://cdn.pydata.org/bokeh/release/bokeh-tables-1.0.4.min.css\");\n    }\n  ];\n\n  function run_inline_js() {\n    \n    if ((root.Bokeh !== undefined) || (force === true)) {\n      for (var i = 0; i < inline_js.length; i++) {\n        inline_js[i].call(root, root.Bokeh);\n      }if (force === true) {\n        display_loaded();\n      }} else if (Date.now() < root._bokeh_timeout) {\n      setTimeout(run_inline_js, 100);\n    } else if (!root._bokeh_failed_load) {\n      console.log(\"Bokeh: BokehJS failed to load within specified timeout.\");\n      root._bokeh_failed_load = true;\n    } else if (force !== true) {\n      var cell = $(document.getElementById(\"1536\")).parents('.cell').data().cell;\n      cell.output_area.append_execute_result(NB_LOAD_WARNING)\n    }\n\n  }\n\n  if (root._bokeh_is_loading === 0) {\n    console.log(\"Bokeh: BokehJS loaded, going straight to plotting\");\n    run_inline_js();\n  } else {\n    load_libs(js_urls, function() {\n      console.log(\"Bokeh: BokehJS plotting callback run at\", now());\n      run_inline_js();\n    });\n  }\n}(window));",
                        "application/vnd.bokehjs_load.v0+json": "\n(function(root) {\n  function now() {\n    return new Date();\n  }\n\n  var force = true;\n\n  if (typeof (root._bokeh_onload_callbacks) === \"undefined\" || force === true) {\n    root._bokeh_onload_callbacks = [];\n    root._bokeh_is_loading = undefined;\n  }\n\n  \n\n  \n  if (typeof (root._bokeh_timeout) === \"undefined\" || force === true) {\n    root._bokeh_timeout = Date.now() + 5000;\n    root._bokeh_failed_load = false;\n  }\n\n  var NB_LOAD_WARNING = {'data': {'text/html':\n     \"<div style='background-color: #fdd'>\\n\"+\n     \"<p>\\n\"+\n     \"BokehJS does not appear to have successfully loaded. If loading BokehJS from CDN, this \\n\"+\n     \"may be due to a slow or bad network connection. Possible fixes:\\n\"+\n     \"</p>\\n\"+\n     \"<ul>\\n\"+\n     \"<li>re-rerun `output_notebook()` to attempt to load from CDN again, or</li>\\n\"+\n     \"<li>use INLINE resources instead, as so:</li>\\n\"+\n     \"</ul>\\n\"+\n     \"<code>\\n\"+\n     \"from bokeh.resources import INLINE\\n\"+\n     \"output_notebook(resources=INLINE)\\n\"+\n     \"</code>\\n\"+\n     \"</div>\"}};\n\n  function display_loaded() {\n    var el = document.getElementById(\"1536\");\n    if (el != null) {\n      el.textContent = \"BokehJS is loading...\";\n    }\n    if (root.Bokeh !== undefined) {\n      if (el != null) {\n        el.textContent = \"BokehJS \" + root.Bokeh.version + \" successfully loaded.\";\n      }\n    } else if (Date.now() < root._bokeh_timeout) {\n      setTimeout(display_loaded, 100)\n    }\n  }\n\n\n  function run_callbacks() {\n    try {\n      root._bokeh_onload_callbacks.forEach(function(callback) { callback() });\n    }\n    finally {\n      delete root._bokeh_onload_callbacks\n    }\n    console.info(\"Bokeh: all callbacks have finished\");\n  }\n\n  function load_libs(js_urls, callback) {\n    root._bokeh_onload_callbacks.push(callback);\n    if (root._bokeh_is_loading > 0) {\n      console.log(\"Bokeh: BokehJS is being loaded, scheduling callback at\", now());\n      return null;\n    }\n    if (js_urls == null || js_urls.length === 0) {\n      run_callbacks();\n      return null;\n    }\n    console.log(\"Bokeh: BokehJS not loaded, scheduling load and callback at\", now());\n    root._bokeh_is_loading = js_urls.length;\n    for (var i = 0; i < js_urls.length; i++) {\n      var url = js_urls[i];\n      var s = document.createElement('script');\n      s.src = url;\n      s.async = false;\n      s.onreadystatechange = s.onload = function() {\n        root._bokeh_is_loading--;\n        if (root._bokeh_is_loading === 0) {\n          console.log(\"Bokeh: all BokehJS libraries loaded\");\n          run_callbacks()\n        }\n      };\n      s.onerror = function() {\n        console.warn(\"failed to load library \" + url);\n      };\n      console.log(\"Bokeh: injecting script tag for BokehJS library: \", url);\n      document.getElementsByTagName(\"head\")[0].appendChild(s);\n    }\n  };var element = document.getElementById(\"1536\");\n  if (element == null) {\n    console.log(\"Bokeh: ERROR: autoload.js configured with elementid '1536' but no matching script tag was found. \")\n    return false;\n  }\n\n  var js_urls = [\"https://cdn.pydata.org/bokeh/release/bokeh-1.0.4.min.js\", \"https://cdn.pydata.org/bokeh/release/bokeh-widgets-1.0.4.min.js\", \"https://cdn.pydata.org/bokeh/release/bokeh-tables-1.0.4.min.js\", \"https://cdn.pydata.org/bokeh/release/bokeh-gl-1.0.4.min.js\"];\n\n  var inline_js = [\n    function(Bokeh) {\n      Bokeh.set_log_level(\"info\");\n    },\n    \n    function(Bokeh) {\n      \n    },\n    function(Bokeh) {\n      console.log(\"Bokeh: injecting CSS: https://cdn.pydata.org/bokeh/release/bokeh-1.0.4.min.css\");\n      Bokeh.embed.inject_css(\"https://cdn.pydata.org/bokeh/release/bokeh-1.0.4.min.css\");\n      console.log(\"Bokeh: injecting CSS: https://cdn.pydata.org/bokeh/release/bokeh-widgets-1.0.4.min.css\");\n      Bokeh.embed.inject_css(\"https://cdn.pydata.org/bokeh/release/bokeh-widgets-1.0.4.min.css\");\n      console.log(\"Bokeh: injecting CSS: https://cdn.pydata.org/bokeh/release/bokeh-tables-1.0.4.min.css\");\n      Bokeh.embed.inject_css(\"https://cdn.pydata.org/bokeh/release/bokeh-tables-1.0.4.min.css\");\n    }\n  ];\n\n  function run_inline_js() {\n    \n    if ((root.Bokeh !== undefined) || (force === true)) {\n      for (var i = 0; i < inline_js.length; i++) {\n        inline_js[i].call(root, root.Bokeh);\n      }if (force === true) {\n        display_loaded();\n      }} else if (Date.now() < root._bokeh_timeout) {\n      setTimeout(run_inline_js, 100);\n    } else if (!root._bokeh_failed_load) {\n      console.log(\"Bokeh: BokehJS failed to load within specified timeout.\");\n      root._bokeh_failed_load = true;\n    } else if (force !== true) {\n      var cell = $(document.getElementById(\"1536\")).parents('.cell').data().cell;\n      cell.output_area.append_execute_result(NB_LOAD_WARNING)\n    }\n\n  }\n\n  if (root._bokeh_is_loading === 0) {\n    console.log(\"Bokeh: BokehJS loaded, going straight to plotting\");\n    run_inline_js();\n  } else {\n    load_libs(js_urls, function() {\n      console.log(\"Bokeh: BokehJS plotting callback run at\", now());\n      run_inline_js();\n    });\n  }\n}(window));"
                    },
                    "metadata": {},
                    "output_type": "display_data"
                }
            ],
            "source": "from bokeh.io import output_notebook, show\nfrom bokeh.models import ColumnDataSource\nfrom bokeh.palettes import Spectral5, Spectral9, Category20\nfrom bokeh.plotting import figure\nfrom bokeh.transform import factor_cmap\n#from bokeh.resources import INLINE\n#output_notebook(resources=INLINE)\noutput_notebook()"
        },
        {
            "cell_type": "markdown",
            "metadata": {},
            "source": "##### How many mosque(s) within 10 kilometers of the neighborhood from each borough ?"
        },
        {
            "cell_type": "code",
            "execution_count": 69,
            "metadata": {},
            "outputs": [
                {
                    "data": {
                        "text/html": "\n\n\n\n\n\n  <div class=\"bk-root\" id=\"5e716676-5aa9-43be-9772-6d217665da8a\" data-root-id=\"1811\"></div>\n"
                    },
                    "metadata": {},
                    "output_type": "display_data"
                },
                {
                    "data": {
                        "application/javascript": "(function(root) {\n  function embed_document(root) {\n    \n  var docs_json = {\"037f71c6-74f9-4ea4-818f-593091bf9e9a\":{\"roots\":{\"references\":[{\"attributes\":{\"below\":[{\"id\":\"1821\",\"type\":\"CategoricalAxis\"}],\"left\":[{\"id\":\"1825\",\"type\":\"LinearAxis\"}],\"outline_line_color\":{\"value\":null},\"plot_width\":800,\"renderers\":[{\"id\":\"1821\",\"type\":\"CategoricalAxis\"},{\"id\":\"1824\",\"type\":\"Grid\"},{\"id\":\"1825\",\"type\":\"LinearAxis\"},{\"id\":\"1829\",\"type\":\"Grid\"},{\"id\":\"1839\",\"type\":\"BoxAnnotation\"},{\"id\":\"1851\",\"type\":\"GlyphRenderer\"}],\"title\":{\"id\":\"1810\",\"type\":\"Title\"},\"toolbar\":{\"id\":\"1837\",\"type\":\"Toolbar\"},\"toolbar_location\":null,\"x_range\":{\"id\":\"1813\",\"type\":\"FactorRange\"},\"x_scale\":{\"id\":\"1817\",\"type\":\"CategoricalScale\"},\"y_range\":{\"id\":\"1815\",\"type\":\"DataRange1d\"},\"y_scale\":{\"id\":\"1819\",\"type\":\"LinearScale\"}},\"id\":\"1811\",\"subtype\":\"Figure\",\"type\":\"Plot\"},{\"attributes\":{\"callback\":null,\"data\":{\"Boroughs_Neighborhoods\":[[\"Central Toronto\",\"North Midtown\\n\"],[\"Downtown Toronto\",\"Railway Lands\"],[\"Downtown Toronto\",\"South Niagara\"],[\"Downtown Toronto\",\"Underground city\"],[\"Etobicoke\",\"Royal York South West\\n\"],[\"Etobicoke\",\"South of Bloor\\n\"],[\"Etobicoke\",\"The Queensway East\"],[\"Etobicoke\",\"Thistletown\"],[\"North York\",\"York University\"],[\"Scarborough\",\"Upper Rouge\"]],\"NoofMosque_25%\":{\"__ndarray__\":\"AAAAAAAA8D8AAAAAAADwPwAAAAAAAPA/AAAAAAAACEAAAAAAAAAIQAAAAAAAACBAAAAAAAAA8D8AAAAAAAAAQAAAAAAAAPA/AAAAAAAAAEA=\",\"dtype\":\"float64\",\"shape\":[10]},\"NoofMosque_50%\":{\"__ndarray__\":\"AAAAAAAA8D8AAAAAAADwPwAAAAAAAPA/AAAAAAAACEAAAAAAAAAIQAAAAAAAACBAAAAAAAAA8D8AAAAAAAAAQAAAAAAAAPA/AAAAAAAAAEA=\",\"dtype\":\"float64\",\"shape\":[10]},\"NoofMosque_75%\":{\"__ndarray__\":\"AAAAAAAA8D8AAAAAAADwPwAAAAAAAPA/AAAAAAAACEAAAAAAAAAIQAAAAAAAACBAAAAAAAAA8D8AAAAAAAAAQAAAAAAAAPA/AAAAAAAAAEA=\",\"dtype\":\"float64\",\"shape\":[10]},\"NoofMosque_count\":{\"__ndarray__\":\"AAAAAAAA8D8AAAAAAADwPwAAAAAAAPA/AAAAAAAACEAAAAAAAAAIQAAAAAAAACBAAAAAAAAA8D8AAAAAAAAAQAAAAAAAAPA/AAAAAAAAAEA=\",\"dtype\":\"float64\",\"shape\":[10]},\"NoofMosque_max\":{\"__ndarray__\":\"AAAAAAAA8D8AAAAAAADwPwAAAAAAAPA/AAAAAAAACEAAAAAAAAAIQAAAAAAAACBAAAAAAAAA8D8AAAAAAAAAQAAAAAAAAPA/AAAAAAAAAEA=\",\"dtype\":\"float64\",\"shape\":[10]},\"NoofMosque_mean\":{\"__ndarray__\":\"AAAAAAAA8D8AAAAAAADwPwAAAAAAAPA/AAAAAAAACEAAAAAAAAAIQAAAAAAAACBAAAAAAAAA8D8AAAAAAAAAQAAAAAAAAPA/AAAAAAAAAEA=\",\"dtype\":\"float64\",\"shape\":[10]},\"NoofMosque_min\":{\"__ndarray__\":\"AAAAAAAA8D8AAAAAAADwPwAAAAAAAPA/AAAAAAAACEAAAAAAAAAIQAAAAAAAACBAAAAAAAAA8D8AAAAAAAAAQAAAAAAAAPA/AAAAAAAAAEA=\",\"dtype\":\"float64\",\"shape\":[10]},\"NoofMosque_std\":{\"__ndarray__\":\"AAAAAAAA+H8AAAAAAAD4fwAAAAAAAPh/AAAAAAAAAAAAAAAAAAAAAAAAAAAAAAAAAAAAAAAA+H8AAAAAAAAAAAAAAAAAAPh/AAAAAAAAAAA=\",\"dtype\":\"float64\",\"shape\":[10]}},\"selected\":{\"id\":\"1907\",\"type\":\"Selection\"},\"selection_policy\":{\"id\":\"1908\",\"type\":\"UnionRenderers\"}},\"id\":\"1847\",\"type\":\"ColumnDataSource\"},{\"attributes\":{\"end\":1,\"factors\":[\"Central Toronto\",\"Downtown Toronto\",\"Etobicoke\",\"North York\",\"Scarborough\"],\"palette\":[\"#2b83ba\",\"#abdda4\",\"#ffffbf\",\"#fdae61\",\"#d7191c\"]},\"id\":\"1809\",\"type\":\"CategoricalColorMapper\"},{\"attributes\":{},\"id\":\"1831\",\"type\":\"WheelZoomTool\"},{\"attributes\":{},\"id\":\"1907\",\"type\":\"Selection\"},{\"attributes\":{\"overlay\":{\"id\":\"1839\",\"type\":\"BoxAnnotation\"}},\"id\":\"1832\",\"type\":\"BoxZoomTool\"},{\"attributes\":{\"source\":{\"id\":\"1847\",\"type\":\"ColumnDataSource\"}},\"id\":\"1852\",\"type\":\"CDSView\"},{\"attributes\":{\"fill_alpha\":{\"value\":0.1},\"fill_color\":{\"value\":\"#1f77b4\"},\"line_alpha\":{\"value\":0.1},\"line_color\":{\"value\":\"#1f77b4\"},\"top\":{\"field\":\"NoofMosque_mean\"},\"width\":{\"value\":1},\"x\":{\"field\":\"Boroughs_Neighborhoods\"}},\"id\":\"1850\",\"type\":\"VBar\"},{\"attributes\":{\"fill_color\":{\"field\":\"Boroughs_Neighborhoods\",\"transform\":{\"id\":\"1809\",\"type\":\"CategoricalColorMapper\"}},\"line_color\":{\"value\":\"white\"},\"top\":{\"field\":\"NoofMosque_mean\"},\"width\":{\"value\":1},\"x\":{\"field\":\"Boroughs_Neighborhoods\"}},\"id\":\"1849\",\"type\":\"VBar\"},{\"attributes\":{},\"id\":\"1819\",\"type\":\"LinearScale\"},{\"attributes\":{\"grid_line_color\":{\"value\":null},\"plot\":{\"id\":\"1811\",\"subtype\":\"Figure\",\"type\":\"Plot\"},\"ticker\":{\"id\":\"1822\",\"type\":\"CategoricalTicker\"}},\"id\":\"1824\",\"type\":\"Grid\"},{\"attributes\":{},\"id\":\"1908\",\"type\":\"UnionRenderers\"},{\"attributes\":{},\"id\":\"1830\",\"type\":\"PanTool\"},{\"attributes\":{\"active_drag\":\"auto\",\"active_inspect\":\"auto\",\"active_multi\":null,\"active_scroll\":\"auto\",\"active_tap\":\"auto\",\"tools\":[{\"id\":\"1830\",\"type\":\"PanTool\"},{\"id\":\"1831\",\"type\":\"WheelZoomTool\"},{\"id\":\"1832\",\"type\":\"BoxZoomTool\"},{\"id\":\"1833\",\"type\":\"SaveTool\"},{\"id\":\"1834\",\"type\":\"ResetTool\"},{\"id\":\"1835\",\"type\":\"HelpTool\"},{\"id\":\"1836\",\"type\":\"HoverTool\"}]},\"id\":\"1837\",\"type\":\"Toolbar\"},{\"attributes\":{\"callback\":null,\"tooltips\":[[\"NoofMosque\",\"@NoofMosque_mean\"]]},\"id\":\"1836\",\"type\":\"HoverTool\"},{\"attributes\":{\"dimension\":1,\"plot\":{\"id\":\"1811\",\"subtype\":\"Figure\",\"type\":\"Plot\"},\"ticker\":{\"id\":\"1826\",\"type\":\"BasicTicker\"}},\"id\":\"1829\",\"type\":\"Grid\"},{\"attributes\":{},\"id\":\"1826\",\"type\":\"BasicTicker\"},{\"attributes\":{\"axis_label\":\"No. of Mosque\",\"formatter\":{\"id\":\"1905\",\"type\":\"BasicTickFormatter\"},\"plot\":{\"id\":\"1811\",\"subtype\":\"Figure\",\"type\":\"Plot\"},\"ticker\":{\"id\":\"1826\",\"type\":\"BasicTicker\"}},\"id\":\"1825\",\"type\":\"LinearAxis\"},{\"attributes\":{\"callback\":null,\"factors\":[[\"Central Toronto\",\"North Midtown\\n\"],[\"Downtown Toronto\",\"Railway Lands\"],[\"Downtown Toronto\",\"South Niagara\"],[\"Downtown Toronto\",\"Underground city\"],[\"Etobicoke\",\"Royal York South West\\n\"],[\"Etobicoke\",\"South of Bloor\\n\"],[\"Etobicoke\",\"The Queensway East\"],[\"Etobicoke\",\"Thistletown\"],[\"North York\",\"York University\"],[\"Scarborough\",\"Upper Rouge\"]],\"range_padding\":0.05},\"id\":\"1813\",\"type\":\"FactorRange\"},{\"attributes\":{},\"id\":\"1903\",\"type\":\"CategoricalTickFormatter\"},{\"attributes\":{\"data_source\":{\"id\":\"1847\",\"type\":\"ColumnDataSource\"},\"glyph\":{\"id\":\"1849\",\"type\":\"VBar\"},\"hover_glyph\":null,\"muted_glyph\":null,\"nonselection_glyph\":{\"id\":\"1850\",\"type\":\"VBar\"},\"selection_glyph\":null,\"view\":{\"id\":\"1852\",\"type\":\"CDSView\"}},\"id\":\"1851\",\"type\":\"GlyphRenderer\"},{\"attributes\":{\"callback\":null,\"start\":0},\"id\":\"1815\",\"type\":\"DataRange1d\"},{\"attributes\":{},\"id\":\"1822\",\"type\":\"CategoricalTicker\"},{\"attributes\":{},\"id\":\"1834\",\"type\":\"ResetTool\"},{\"attributes\":{\"plot\":null,\"text\":\"No. of Mosque by Neighborhood and Borough\"},\"id\":\"1810\",\"type\":\"Title\"},{\"attributes\":{},\"id\":\"1905\",\"type\":\"BasicTickFormatter\"},{\"attributes\":{\"axis_label\":\"Neighborhood, Borough\",\"formatter\":{\"id\":\"1903\",\"type\":\"CategoricalTickFormatter\"},\"major_label_orientation\":1.57,\"plot\":{\"id\":\"1811\",\"subtype\":\"Figure\",\"type\":\"Plot\"},\"ticker\":{\"id\":\"1822\",\"type\":\"CategoricalTicker\"}},\"id\":\"1821\",\"type\":\"CategoricalAxis\"},{\"attributes\":{},\"id\":\"1833\",\"type\":\"SaveTool\"},{\"attributes\":{},\"id\":\"1835\",\"type\":\"HelpTool\"},{\"attributes\":{\"bottom_units\":\"screen\",\"fill_alpha\":{\"value\":0.5},\"fill_color\":{\"value\":\"lightgrey\"},\"left_units\":\"screen\",\"level\":\"overlay\",\"line_alpha\":{\"value\":1.0},\"line_color\":{\"value\":\"black\"},\"line_dash\":[4,4],\"line_width\":{\"value\":2},\"plot\":null,\"render_mode\":\"css\",\"right_units\":\"screen\",\"top_units\":\"screen\"},\"id\":\"1839\",\"type\":\"BoxAnnotation\"},{\"attributes\":{},\"id\":\"1817\",\"type\":\"CategoricalScale\"}],\"root_ids\":[\"1811\"]},\"title\":\"Bokeh Application\",\"version\":\"1.0.4\"}};\n  var render_items = [{\"docid\":\"037f71c6-74f9-4ea4-818f-593091bf9e9a\",\"roots\":{\"1811\":\"5e716676-5aa9-43be-9772-6d217665da8a\"}}];\n  root.Bokeh.embed.embed_items_notebook(docs_json, render_items);\n\n  }\n  if (root.Bokeh !== undefined) {\n    embed_document(root);\n  } else {\n    var attempts = 0;\n    var timer = setInterval(function(root) {\n      if (root.Bokeh !== undefined) {\n        embed_document(root);\n        clearInterval(timer);\n      }\n      attempts++;\n      if (attempts > 100) {\n        console.log(\"Bokeh: ERROR: Unable to run BokehJS code because BokehJS library is missing\");\n        clearInterval(timer);\n      }\n    }, 10, root)\n  }\n})(window);",
                        "application/vnd.bokehjs_exec.v0+json": ""
                    },
                    "metadata": {
                        "application/vnd.bokehjs_exec.v0+json": {
                            "id": "1811"
                        }
                    },
                    "output_type": "display_data"
                }
            ],
            "source": "group = mosque_count.groupby(by=['Boroughs','Neighborhoods'])\n\nindex_cmap = factor_cmap('Boroughs_Neighborhoods', palette=Spectral5, factors=sorted(mosque_count.Boroughs.unique()), end=1)\n\nm = figure(plot_width=800, title=\"No. of Mosque by Neighborhood and Borough\",\n           x_range=group, toolbar_location=None, tooltips=[(\"NoofMosque\", \"@NoofMosque_mean\")])\n\nm.vbar(x='Boroughs_Neighborhoods', top='NoofMosque_mean', width=1, source=group,\n       line_color=\"white\", fill_color=index_cmap)\n\nm.y_range.start = 0\nm.x_range.range_padding = 0.05\nm.xgrid.grid_line_color = None\nm.xaxis.axis_label = \"Neighborhood, Borough\"\nm.yaxis.axis_label = \"No. of Mosque\"\nm.xaxis.major_label_orientation = 1.57\nm.outline_line_color = None\n\nshow(m)"
        },
        {
            "cell_type": "markdown",
            "metadata": {},
            "source": "##### How many halal restaurants within 500 meters from each mosque?"
        },
        {
            "cell_type": "code",
            "execution_count": 52,
            "metadata": {},
            "outputs": [
                {
                    "data": {
                        "text/html": "\n\n\n\n\n\n  <div class=\"bk-root\" id=\"d1c7081a-ca13-431b-99d4-fd886658ac2f\" data-root-id=\"1102\"></div>\n"
                    },
                    "metadata": {},
                    "output_type": "display_data"
                },
                {
                    "data": {
                        "application/javascript": "(function(root) {\n  function embed_document(root) {\n    \n  var docs_json = {\"b2301690-2581-4bd9-9b17-45a4cf397362\":{\"roots\":{\"references\":[{\"attributes\":{\"below\":[{\"id\":\"1112\",\"type\":\"CategoricalAxis\"}],\"left\":[{\"id\":\"1116\",\"type\":\"LinearAxis\"}],\"outline_line_color\":{\"value\":null},\"renderers\":[{\"id\":\"1112\",\"type\":\"CategoricalAxis\"},{\"id\":\"1115\",\"type\":\"Grid\"},{\"id\":\"1116\",\"type\":\"LinearAxis\"},{\"id\":\"1120\",\"type\":\"Grid\"},{\"id\":\"1130\",\"type\":\"BoxAnnotation\"},{\"id\":\"1142\",\"type\":\"GlyphRenderer\"}],\"title\":{\"id\":\"1101\",\"type\":\"Title\"},\"toolbar\":{\"id\":\"1128\",\"type\":\"Toolbar\"},\"toolbar_location\":null,\"x_range\":{\"id\":\"1104\",\"type\":\"FactorRange\"},\"x_scale\":{\"id\":\"1108\",\"type\":\"CategoricalScale\"},\"y_range\":{\"id\":\"1106\",\"type\":\"DataRange1d\"},\"y_scale\":{\"id\":\"1110\",\"type\":\"LinearScale\"}},\"id\":\"1102\",\"subtype\":\"Figure\",\"type\":\"Plot\"},{\"attributes\":{},\"id\":\"1110\",\"type\":\"LinearScale\"},{\"attributes\":{\"fill_color\":{\"field\":\"Neighborhoods_Mosques\",\"transform\":{\"id\":\"1100\",\"type\":\"CategoricalColorMapper\"}},\"line_color\":{\"value\":\"white\"},\"top\":{\"field\":\"NoofHalalRestaurant_mean\"},\"width\":{\"value\":1},\"x\":{\"field\":\"Neighborhoods_Mosques\"}},\"id\":\"1140\",\"type\":\"VBar\"},{\"attributes\":{\"callback\":null,\"data\":{\"Neighborhoods_Mosques\":[[\"North Midtown\\n\",\"Hamidiye Mosque\"],[\"Railway Lands\",\"Ajyal Mosque\"],[\"Royal York South West\\n\",\"Baitul Hamd Mosque\"],[\"Royal York South West\\n\",\"Ummah Nabawiah Mosque\"],[\"South Niagara\",\"Mosque Aisha\"],[\"South of Bloor\\n\",\"Baitul Aman Mosque\"],[\"South of Bloor\\n\",\"Bosnian Mosque Birmingham\"],[\"South of Bloor\\n\",\"Hamza Mosque\"],[\"South of Bloor\\n\",\"Mevlana Mosque\"],[\"South of Bloor\\n\",\"Mosque\"],[\"South of Bloor\\n\",\"Omar Bin Khattab Mosque\"],[\"South of Bloor\\n\",\"Toronto Mosque\"],[\"The Queensway East\",\"Istiqamah Islamic Centre of Ontario\"],[\"Thistletown\",\"Masjid E Saliheen\"],[\"Thistletown\",\"Vaughn Islamic Community Centre Mosque\"],[\"Underground city\",\"Abu Huraira Mosque Inc (Abu Huraira Center)\"],[\"Underground city\",\"Jame Abu Bakr Siddique Masjid\"],[\"Underground city\",\"S\\u00fcleymaniye Mosque Finch\"],[\"Upper Rouge\",\"Nugget mosque\"]],\"NoofHalalRestaurant_25%\":{\"__ndarray__\":\"AAAAAAAAEEAAAAAAAAA+QAAAAAAAAPA/AAAAAAAA8D8AAAAAAAAYQAAAAAAAABhAAAAAAAAACEAAAAAAAAAiQAAAAAAAAPA/AAAAAAAAFEAAAAAAAIBBQAAAAAAAAAhAAAAAAAAA8D8AAAAAAAAUQAAAAAAAABBAAAAAAAAACEAAAAAAAAAcQAAAAAAAABRAAAAAAAAA8D8=\",\"dtype\":\"float64\",\"shape\":[19]},\"NoofHalalRestaurant_50%\":{\"__ndarray__\":\"AAAAAAAAEEAAAAAAAAA+QAAAAAAAAPA/AAAAAAAA8D8AAAAAAAAYQAAAAAAAABhAAAAAAAAACEAAAAAAAAAiQAAAAAAAAPA/AAAAAAAAFEAAAAAAAIBBQAAAAAAAAAhAAAAAAAAA8D8AAAAAAAAUQAAAAAAAABBAAAAAAAAACEAAAAAAAAAcQAAAAAAAABRAAAAAAAAA8D8=\",\"dtype\":\"float64\",\"shape\":[19]},\"NoofHalalRestaurant_75%\":{\"__ndarray__\":\"AAAAAAAAEEAAAAAAAAA+QAAAAAAAAPA/AAAAAAAA8D8AAAAAAAAYQAAAAAAAABhAAAAAAAAACEAAAAAAAAAiQAAAAAAAAPA/AAAAAAAAFEAAAAAAAIBBQAAAAAAAAAhAAAAAAAAA8D8AAAAAAAAUQAAAAAAAABBAAAAAAAAACEAAAAAAAAAcQAAAAAAAABRAAAAAAAAA8D8=\",\"dtype\":\"float64\",\"shape\":[19]},\"NoofHalalRestaurant_count\":{\"__ndarray__\":\"AAAAAAAAEEAAAAAAAAA+QAAAAAAAAPA/AAAAAAAA8D8AAAAAAAAYQAAAAAAAABhAAAAAAAAACEAAAAAAAAAiQAAAAAAAAPA/AAAAAAAAFEAAAAAAAIBBQAAAAAAAAAhAAAAAAAAA8D8AAAAAAAAUQAAAAAAAABBAAAAAAAAACEAAAAAAAAAcQAAAAAAAABRAAAAAAAAA8D8=\",\"dtype\":\"float64\",\"shape\":[19]},\"NoofHalalRestaurant_max\":{\"__ndarray__\":\"AAAAAAAAEEAAAAAAAAA+QAAAAAAAAPA/AAAAAAAA8D8AAAAAAAAYQAAAAAAAABhAAAAAAAAACEAAAAAAAAAiQAAAAAAAAPA/AAAAAAAAFEAAAAAAAIBBQAAAAAAAAAhAAAAAAAAA8D8AAAAAAAAUQAAAAAAAABBAAAAAAAAACEAAAAAAAAAcQAAAAAAAABRAAAAAAAAA8D8=\",\"dtype\":\"float64\",\"shape\":[19]},\"NoofHalalRestaurant_mean\":{\"__ndarray__\":\"AAAAAAAAEEAAAAAAAAA+QAAAAAAAAPA/AAAAAAAA8D8AAAAAAAAYQAAAAAAAABhAAAAAAAAACEAAAAAAAAAiQAAAAAAAAPA/AAAAAAAAFEAAAAAAAIBBQAAAAAAAAAhAAAAAAAAA8D8AAAAAAAAUQAAAAAAAABBAAAAAAAAACEAAAAAAAAAcQAAAAAAAABRAAAAAAAAA8D8=\",\"dtype\":\"float64\",\"shape\":[19]},\"NoofHalalRestaurant_min\":{\"__ndarray__\":\"AAAAAAAAEEAAAAAAAAA+QAAAAAAAAPA/AAAAAAAA8D8AAAAAAAAYQAAAAAAAABhAAAAAAAAACEAAAAAAAAAiQAAAAAAAAPA/AAAAAAAAFEAAAAAAAIBBQAAAAAAAAAhAAAAAAAAA8D8AAAAAAAAUQAAAAAAAABBAAAAAAAAACEAAAAAAAAAcQAAAAAAAABRAAAAAAAAA8D8=\",\"dtype\":\"float64\",\"shape\":[19]},\"NoofHalalRestaurant_std\":{\"__ndarray__\":\"AAAAAAAAAAAAAAAAAAAAAAAAAAAAAPh/AAAAAAAA+H8AAAAAAAAAAAAAAAAAAAAAAAAAAAAAAAAAAAAAAAAAAAAAAAAAAPh/AAAAAAAAAAAAAAAAAAAAAAAAAAAAAAAAAAAAAAAA+H8AAAAAAAAAAAAAAAAAAAAAAAAAAAAAAAAAAAAAAAAAAAAAAAAAAAAAAAAAAAAA+H8=\",\"dtype\":\"float64\",\"shape\":[19]}},\"selected\":{\"id\":\"1158\",\"type\":\"Selection\"},\"selection_policy\":{\"id\":\"1159\",\"type\":\"UnionRenderers\"}},\"id\":\"1138\",\"type\":\"ColumnDataSource\"},{\"attributes\":{\"end\":1,\"factors\":[\"North Midtown\\n\",\"Railway Lands\",\"Royal York South West\\n\",\"South Niagara\",\"South of Bloor\\n\",\"The Queensway East\",\"Thistletown\",\"Underground city\",\"Upper Rouge\"],\"palette\":[\"#1f77b4\",\"#aec7e8\",\"#ff7f0e\",\"#ffbb78\",\"#2ca02c\",\"#98df8a\",\"#d62728\",\"#ff9896\",\"#9467bd\",\"#c5b0d5\",\"#8c564b\",\"#c49c94\",\"#e377c2\",\"#f7b6d2\",\"#7f7f7f\"]},\"id\":\"1100\",\"type\":\"CategoricalColorMapper\"},{\"attributes\":{\"source\":{\"id\":\"1138\",\"type\":\"ColumnDataSource\"}},\"id\":\"1143\",\"type\":\"CDSView\"},{\"attributes\":{\"axis_label\":\"No. of Restaurant Nearby Mosques\",\"formatter\":{\"id\":\"1156\",\"type\":\"BasicTickFormatter\"},\"plot\":{\"id\":\"1102\",\"subtype\":\"Figure\",\"type\":\"Plot\"},\"ticker\":{\"id\":\"1117\",\"type\":\"BasicTicker\"}},\"id\":\"1116\",\"type\":\"LinearAxis\"},{\"attributes\":{},\"id\":\"1159\",\"type\":\"UnionRenderers\"},{\"attributes\":{\"axis_label\":\"Mosque, Neighborhood\",\"formatter\":{\"id\":\"1154\",\"type\":\"CategoricalTickFormatter\"},\"group_label_orientation\":1.57,\"major_label_orientation\":1.57,\"plot\":{\"id\":\"1102\",\"subtype\":\"Figure\",\"type\":\"Plot\"},\"ticker\":{\"id\":\"1113\",\"type\":\"CategoricalTicker\"}},\"id\":\"1112\",\"type\":\"CategoricalAxis\"},{\"attributes\":{},\"id\":\"1158\",\"type\":\"Selection\"},{\"attributes\":{\"callback\":null,\"start\":0},\"id\":\"1106\",\"type\":\"DataRange1d\"},{\"attributes\":{\"bottom_units\":\"screen\",\"fill_alpha\":{\"value\":0.5},\"fill_color\":{\"value\":\"lightgrey\"},\"left_units\":\"screen\",\"level\":\"overlay\",\"line_alpha\":{\"value\":1.0},\"line_color\":{\"value\":\"black\"},\"line_dash\":[4,4],\"line_width\":{\"value\":2},\"plot\":null,\"render_mode\":\"css\",\"right_units\":\"screen\",\"top_units\":\"screen\"},\"id\":\"1130\",\"type\":\"BoxAnnotation\"},{\"attributes\":{\"callback\":null,\"tooltips\":[[\"NoofHalalRestaurant\",\"@NoofHalalRestaurant_mean\"]]},\"id\":\"1127\",\"type\":\"HoverTool\"},{\"attributes\":{},\"id\":\"1154\",\"type\":\"CategoricalTickFormatter\"},{\"attributes\":{\"fill_alpha\":{\"value\":0.1},\"fill_color\":{\"value\":\"#1f77b4\"},\"line_alpha\":{\"value\":0.1},\"line_color\":{\"value\":\"#1f77b4\"},\"top\":{\"field\":\"NoofHalalRestaurant_mean\"},\"width\":{\"value\":1},\"x\":{\"field\":\"Neighborhoods_Mosques\"}},\"id\":\"1141\",\"type\":\"VBar\"},{\"attributes\":{},\"id\":\"1156\",\"type\":\"BasicTickFormatter\"},{\"attributes\":{\"grid_line_color\":{\"value\":null},\"plot\":{\"id\":\"1102\",\"subtype\":\"Figure\",\"type\":\"Plot\"},\"ticker\":{\"id\":\"1113\",\"type\":\"CategoricalTicker\"}},\"id\":\"1115\",\"type\":\"Grid\"},{\"attributes\":{},\"id\":\"1113\",\"type\":\"CategoricalTicker\"},{\"attributes\":{\"overlay\":{\"id\":\"1130\",\"type\":\"BoxAnnotation\"}},\"id\":\"1123\",\"type\":\"BoxZoomTool\"},{\"attributes\":{\"dimension\":1,\"plot\":{\"id\":\"1102\",\"subtype\":\"Figure\",\"type\":\"Plot\"},\"ticker\":{\"id\":\"1117\",\"type\":\"BasicTicker\"}},\"id\":\"1120\",\"type\":\"Grid\"},{\"attributes\":{\"data_source\":{\"id\":\"1138\",\"type\":\"ColumnDataSource\"},\"glyph\":{\"id\":\"1140\",\"type\":\"VBar\"},\"hover_glyph\":null,\"muted_glyph\":null,\"nonselection_glyph\":{\"id\":\"1141\",\"type\":\"VBar\"},\"selection_glyph\":null,\"view\":{\"id\":\"1143\",\"type\":\"CDSView\"}},\"id\":\"1142\",\"type\":\"GlyphRenderer\"},{\"attributes\":{},\"id\":\"1117\",\"type\":\"BasicTicker\"},{\"attributes\":{\"callback\":null,\"factors\":[[\"North Midtown\\n\",\"Hamidiye Mosque\"],[\"Railway Lands\",\"Ajyal Mosque\"],[\"Royal York South West\\n\",\"Baitul Hamd Mosque\"],[\"Royal York South West\\n\",\"Ummah Nabawiah Mosque\"],[\"South Niagara\",\"Mosque Aisha\"],[\"South of Bloor\\n\",\"Baitul Aman Mosque\"],[\"South of Bloor\\n\",\"Bosnian Mosque Birmingham\"],[\"South of Bloor\\n\",\"Hamza Mosque\"],[\"South of Bloor\\n\",\"Mevlana Mosque\"],[\"South of Bloor\\n\",\"Mosque\"],[\"South of Bloor\\n\",\"Omar Bin Khattab Mosque\"],[\"South of Bloor\\n\",\"Toronto Mosque\"],[\"The Queensway East\",\"Istiqamah Islamic Centre of Ontario\"],[\"Thistletown\",\"Masjid E Saliheen\"],[\"Thistletown\",\"Vaughn Islamic Community Centre Mosque\"],[\"Underground city\",\"Abu Huraira Mosque Inc (Abu Huraira Center)\"],[\"Underground city\",\"Jame Abu Bakr Siddique Masjid\"],[\"Underground city\",\"S\\u00fcleymaniye Mosque Finch\"],[\"Upper Rouge\",\"Nugget mosque\"]],\"range_padding\":0.05},\"id\":\"1104\",\"type\":\"FactorRange\"},{\"attributes\":{\"active_drag\":\"auto\",\"active_inspect\":\"auto\",\"active_multi\":null,\"active_scroll\":\"auto\",\"active_tap\":\"auto\",\"tools\":[{\"id\":\"1121\",\"type\":\"PanTool\"},{\"id\":\"1122\",\"type\":\"WheelZoomTool\"},{\"id\":\"1123\",\"type\":\"BoxZoomTool\"},{\"id\":\"1124\",\"type\":\"SaveTool\"},{\"id\":\"1125\",\"type\":\"ResetTool\"},{\"id\":\"1126\",\"type\":\"HelpTool\"},{\"id\":\"1127\",\"type\":\"HoverTool\"}]},\"id\":\"1128\",\"type\":\"Toolbar\"},{\"attributes\":{},\"id\":\"1122\",\"type\":\"WheelZoomTool\"},{\"attributes\":{},\"id\":\"1108\",\"type\":\"CategoricalScale\"},{\"attributes\":{\"plot\":null,\"text\":\"No. of Halal Restaurant by Mosque and Borough\"},\"id\":\"1101\",\"type\":\"Title\"},{\"attributes\":{},\"id\":\"1121\",\"type\":\"PanTool\"},{\"attributes\":{},\"id\":\"1124\",\"type\":\"SaveTool\"},{\"attributes\":{},\"id\":\"1126\",\"type\":\"HelpTool\"},{\"attributes\":{},\"id\":\"1125\",\"type\":\"ResetTool\"}],\"root_ids\":[\"1102\"]},\"title\":\"Bokeh Application\",\"version\":\"1.0.4\"}};\n  var render_items = [{\"docid\":\"b2301690-2581-4bd9-9b17-45a4cf397362\",\"roots\":{\"1102\":\"d1c7081a-ca13-431b-99d4-fd886658ac2f\"}}];\n  root.Bokeh.embed.embed_items_notebook(docs_json, render_items);\n\n  }\n  if (root.Bokeh !== undefined) {\n    embed_document(root);\n  } else {\n    var attempts = 0;\n    var timer = setInterval(function(root) {\n      if (root.Bokeh !== undefined) {\n        embed_document(root);\n        clearInterval(timer);\n      }\n      attempts++;\n      if (attempts > 100) {\n        console.log(\"Bokeh: ERROR: Unable to run BokehJS code because BokehJS library is missing\");\n        clearInterval(timer);\n      }\n    }, 10, root)\n  }\n})(window);",
                        "application/vnd.bokehjs_exec.v0+json": ""
                    },
                    "metadata": {
                        "application/vnd.bokehjs_exec.v0+json": {
                            "id": "1102"
                        }
                    },
                    "output_type": "display_data"
                }
            ],
            "source": "#grp = halal_count.groupby(by=['Boroughs','Mosques'])\n#nbhd = list(group.Neighborhoods)\n#source = ColumnDataSource(data=dict(group = grp,neighborhood = nbhd))\n\ngroup = halal_count.groupby(by=['Neighborhoods','Mosques'])\n#print('{}'.format(group.shape()))\nindex_cmap = factor_cmap('Neighborhoods_Mosques', palette=Category20[15], factors=sorted(halal_count.Neighborhoods.unique()), end=1)\n\nh = figure( title=\"No. of Halal Restaurant by Mosque and Borough\",\n           x_range=group, toolbar_location=None, tooltips=[(\"NoofHalalRestaurant\", \"@NoofHalalRestaurant_mean\")])\n\nh.vbar(x='Neighborhoods_Mosques', top='NoofHalalRestaurant_mean', width=1, source=group,\n       line_color=\"white\", fill_color=index_cmap)\n#print('{}'.format(group[1]['Neigborhoods']))\nh.y_range.start = 0\nh.x_range.range_padding = 0.05\nh.xgrid.grid_line_color = None\nh.xaxis.axis_label = \"Mosque, Neighborhood\"\nh.yaxis.axis_label = \"No. of Restaurant Nearby Mosques\"\nh.xaxis.major_label_orientation = 1.57\nh.xaxis.group_label_orientation =1.57\nh.outline_line_color = None\n\nshow(h)"
        },
        {
            "cell_type": "markdown",
            "metadata": {},
            "source": "##### How many markets within 5 kilometers from each mosque?"
        },
        {
            "cell_type": "code",
            "execution_count": 67,
            "metadata": {},
            "outputs": [
                {
                    "data": {
                        "text/html": "\n\n\n\n\n\n  <div class=\"bk-root\" id=\"bcdd8158-938d-41ef-8846-9a01347da567\" data-root-id=\"1671\"></div>\n"
                    },
                    "metadata": {},
                    "output_type": "display_data"
                },
                {
                    "data": {
                        "application/javascript": "(function(root) {\n  function embed_document(root) {\n    \n  var docs_json = {\"87eb62a0-96b2-4598-9ac6-1a325dc6ac5b\":{\"roots\":{\"references\":[{\"attributes\":{\"below\":[{\"id\":\"1681\",\"type\":\"CategoricalAxis\"}],\"left\":[{\"id\":\"1685\",\"type\":\"LinearAxis\"}],\"outline_line_color\":{\"value\":null},\"renderers\":[{\"id\":\"1681\",\"type\":\"CategoricalAxis\"},{\"id\":\"1684\",\"type\":\"Grid\"},{\"id\":\"1685\",\"type\":\"LinearAxis\"},{\"id\":\"1689\",\"type\":\"Grid\"},{\"id\":\"1699\",\"type\":\"BoxAnnotation\"},{\"id\":\"1711\",\"type\":\"GlyphRenderer\"}],\"title\":{\"id\":\"1670\",\"type\":\"Title\"},\"toolbar\":{\"id\":\"1697\",\"type\":\"Toolbar\"},\"toolbar_location\":null,\"x_range\":{\"id\":\"1673\",\"type\":\"FactorRange\"},\"x_scale\":{\"id\":\"1677\",\"type\":\"CategoricalScale\"},\"y_range\":{\"id\":\"1675\",\"type\":\"DataRange1d\"},\"y_scale\":{\"id\":\"1679\",\"type\":\"LinearScale\"}},\"id\":\"1671\",\"subtype\":\"Figure\",\"type\":\"Plot\"},{\"attributes\":{\"axis_label\":\"No. of Market within 500m from Mosques\",\"formatter\":{\"id\":\"1757\",\"type\":\"BasicTickFormatter\"},\"plot\":{\"id\":\"1671\",\"subtype\":\"Figure\",\"type\":\"Plot\"},\"ticker\":{\"id\":\"1686\",\"type\":\"BasicTicker\"}},\"id\":\"1685\",\"type\":\"LinearAxis\"},{\"attributes\":{},\"id\":\"1679\",\"type\":\"LinearScale\"},{\"attributes\":{},\"id\":\"1682\",\"type\":\"CategoricalTicker\"},{\"attributes\":{},\"id\":\"1694\",\"type\":\"ResetTool\"},{\"attributes\":{\"active_drag\":\"auto\",\"active_inspect\":\"auto\",\"active_multi\":null,\"active_scroll\":\"auto\",\"active_tap\":\"auto\",\"tools\":[{\"id\":\"1690\",\"type\":\"PanTool\"},{\"id\":\"1691\",\"type\":\"WheelZoomTool\"},{\"id\":\"1692\",\"type\":\"BoxZoomTool\"},{\"id\":\"1693\",\"type\":\"SaveTool\"},{\"id\":\"1694\",\"type\":\"ResetTool\"},{\"id\":\"1695\",\"type\":\"HelpTool\"},{\"id\":\"1696\",\"type\":\"HoverTool\"}]},\"id\":\"1697\",\"type\":\"Toolbar\"},{\"attributes\":{\"source\":{\"id\":\"1707\",\"type\":\"ColumnDataSource\"}},\"id\":\"1712\",\"type\":\"CDSView\"},{\"attributes\":{},\"id\":\"1693\",\"type\":\"SaveTool\"},{\"attributes\":{\"callback\":null,\"data\":{\"Neighborhoods\":[\"North Midtown\\n\",\"Railway Lands\",\"Royal York South West\\n\",\"South Niagara\",\"South of Bloor\\n\",\"Thistletown\",\"Underground city\",\"Upper Rouge\"],\"NoofMarket_25%\":{\"__ndarray__\":\"AAAAAAAACEAAAAAAAAA/QAAAAAAAAPA/AAAAAAAA8D8AAAAAAIBKQAAAAAAAAAhAAAAAAAAACEAAAAAAAAAAQA==\",\"dtype\":\"float64\",\"shape\":[8]},\"NoofMarket_50%\":{\"__ndarray__\":\"AAAAAAAACEAAAAAAAAA/QAAAAAAAAPA/AAAAAAAA8D8AAAAAAIBKQAAAAAAAAAhAAAAAAAAACEAAAAAAAAAAQA==\",\"dtype\":\"float64\",\"shape\":[8]},\"NoofMarket_75%\":{\"__ndarray__\":\"AAAAAAAACEAAAAAAAAA/QAAAAAAAAPA/AAAAAAAA8D8AAAAAAIBKQAAAAAAAAAhAAAAAAAAACEAAAAAAAAAAQA==\",\"dtype\":\"float64\",\"shape\":[8]},\"NoofMarket_count\":{\"__ndarray__\":\"AAAAAAAACEAAAAAAAAA/QAAAAAAAAPA/AAAAAAAA8D8AAAAAAIBKQAAAAAAAAAhAAAAAAAAACEAAAAAAAAAAQA==\",\"dtype\":\"float64\",\"shape\":[8]},\"NoofMarket_max\":{\"__ndarray__\":\"AAAAAAAACEAAAAAAAAA/QAAAAAAAAPA/AAAAAAAA8D8AAAAAAIBKQAAAAAAAAAhAAAAAAAAACEAAAAAAAAAAQA==\",\"dtype\":\"float64\",\"shape\":[8]},\"NoofMarket_mean\":{\"__ndarray__\":\"AAAAAAAACEAAAAAAAAA/QAAAAAAAAPA/AAAAAAAA8D8AAAAAAIBKQAAAAAAAAAhAAAAAAAAACEAAAAAAAAAAQA==\",\"dtype\":\"float64\",\"shape\":[8]},\"NoofMarket_min\":{\"__ndarray__\":\"AAAAAAAACEAAAAAAAAA/QAAAAAAAAPA/AAAAAAAA8D8AAAAAAIBKQAAAAAAAAAhAAAAAAAAACEAAAAAAAAAAQA==\",\"dtype\":\"float64\",\"shape\":[8]},\"NoofMarket_std\":{\"__ndarray__\":\"AAAAAAAAAAAAAAAAAAAAAAAAAAAAAPh/AAAAAAAA+H8AAAAAAAAAAAAAAAAAAAAAAAAAAAAAAAAAAAAAAAAAAA==\",\"dtype\":\"float64\",\"shape\":[8]}},\"selected\":{\"id\":\"1759\",\"type\":\"Selection\"},\"selection_policy\":{\"id\":\"1760\",\"type\":\"UnionRenderers\"}},\"id\":\"1707\",\"type\":\"ColumnDataSource\"},{\"attributes\":{\"overlay\":{\"id\":\"1699\",\"type\":\"BoxAnnotation\"}},\"id\":\"1692\",\"type\":\"BoxZoomTool\"},{\"attributes\":{},\"id\":\"1760\",\"type\":\"UnionRenderers\"},{\"attributes\":{},\"id\":\"1691\",\"type\":\"WheelZoomTool\"},{\"attributes\":{},\"id\":\"1759\",\"type\":\"Selection\"},{\"attributes\":{},\"id\":\"1690\",\"type\":\"PanTool\"},{\"attributes\":{\"callback\":null,\"factors\":[\"North Midtown\\n\",\"Railway Lands\",\"Royal York South West\\n\",\"South Niagara\",\"South of Bloor\\n\",\"Thistletown\",\"Underground city\",\"Upper Rouge\"],\"range_padding\":0.05},\"id\":\"1673\",\"type\":\"FactorRange\"},{\"attributes\":{\"plot\":null,\"text\":\"No. of Markets Nearby Mosque\"},\"id\":\"1670\",\"type\":\"Title\"},{\"attributes\":{},\"id\":\"1755\",\"type\":\"CategoricalTickFormatter\"},{\"attributes\":{},\"id\":\"1695\",\"type\":\"HelpTool\"},{\"attributes\":{\"data_source\":{\"id\":\"1707\",\"type\":\"ColumnDataSource\"},\"glyph\":{\"id\":\"1709\",\"type\":\"VBar\"},\"hover_glyph\":null,\"muted_glyph\":null,\"nonselection_glyph\":{\"id\":\"1710\",\"type\":\"VBar\"},\"selection_glyph\":null,\"view\":{\"id\":\"1712\",\"type\":\"CDSView\"}},\"id\":\"1711\",\"type\":\"GlyphRenderer\"},{\"attributes\":{\"axis_label\":\"Neighborhood\",\"formatter\":{\"id\":\"1755\",\"type\":\"CategoricalTickFormatter\"},\"major_label_orientation\":\"vertical\",\"plot\":{\"id\":\"1671\",\"subtype\":\"Figure\",\"type\":\"Plot\"},\"ticker\":{\"id\":\"1682\",\"type\":\"CategoricalTicker\"}},\"id\":\"1681\",\"type\":\"CategoricalAxis\"},{\"attributes\":{\"bottom_units\":\"screen\",\"fill_alpha\":{\"value\":0.5},\"fill_color\":{\"value\":\"lightgrey\"},\"left_units\":\"screen\",\"level\":\"overlay\",\"line_alpha\":{\"value\":1.0},\"line_color\":{\"value\":\"black\"},\"line_dash\":[4,4],\"line_width\":{\"value\":2},\"plot\":null,\"render_mode\":\"css\",\"right_units\":\"screen\",\"top_units\":\"screen\"},\"id\":\"1699\",\"type\":\"BoxAnnotation\"},{\"attributes\":{\"fill_alpha\":{\"value\":0.1},\"fill_color\":{\"value\":\"#1f77b4\"},\"line_alpha\":{\"value\":0.1},\"line_color\":{\"value\":\"#1f77b4\"},\"top\":{\"field\":\"NoofMarket_mean\"},\"width\":{\"value\":1},\"x\":{\"field\":\"Neighborhoods\"}},\"id\":\"1710\",\"type\":\"VBar\"},{\"attributes\":{\"callback\":null,\"tooltips\":[[\"NoofMarket\",\"@NoofMarket_mean\"]]},\"id\":\"1696\",\"type\":\"HoverTool\"},{\"attributes\":{\"callback\":null,\"start\":0},\"id\":\"1675\",\"type\":\"DataRange1d\"},{\"attributes\":{},\"id\":\"1677\",\"type\":\"CategoricalScale\"},{\"attributes\":{},\"id\":\"1757\",\"type\":\"BasicTickFormatter\"},{\"attributes\":{\"grid_line_color\":{\"value\":null},\"plot\":{\"id\":\"1671\",\"subtype\":\"Figure\",\"type\":\"Plot\"},\"ticker\":{\"id\":\"1682\",\"type\":\"CategoricalTicker\"}},\"id\":\"1684\",\"type\":\"Grid\"},{\"attributes\":{\"dimension\":1,\"plot\":{\"id\":\"1671\",\"subtype\":\"Figure\",\"type\":\"Plot\"},\"ticker\":{\"id\":\"1686\",\"type\":\"BasicTicker\"}},\"id\":\"1689\",\"type\":\"Grid\"},{\"attributes\":{\"end\":1,\"factors\":[\"North Midtown\\n\",\"Railway Lands\",\"Royal York South West\\n\",\"South Niagara\",\"South of Bloor\\n\",\"Thistletown\",\"Underground city\",\"Upper Rouge\"],\"palette\":[\"#3288bd\",\"#66c2a5\",\"#abdda4\",\"#e6f598\",\"#ffffbf\",\"#fee08b\",\"#fdae61\",\"#f46d43\",\"#d53e4f\"]},\"id\":\"1669\",\"type\":\"CategoricalColorMapper\"},{\"attributes\":{},\"id\":\"1686\",\"type\":\"BasicTicker\"},{\"attributes\":{\"fill_color\":{\"field\":\"Neighborhoods\",\"transform\":{\"id\":\"1669\",\"type\":\"CategoricalColorMapper\"}},\"line_color\":{\"value\":\"white\"},\"top\":{\"field\":\"NoofMarket_mean\"},\"width\":{\"value\":1},\"x\":{\"field\":\"Neighborhoods\"}},\"id\":\"1709\",\"type\":\"VBar\"}],\"root_ids\":[\"1671\"]},\"title\":\"Bokeh Application\",\"version\":\"1.0.4\"}};\n  var render_items = [{\"docid\":\"87eb62a0-96b2-4598-9ac6-1a325dc6ac5b\",\"roots\":{\"1671\":\"bcdd8158-938d-41ef-8846-9a01347da567\"}}];\n  root.Bokeh.embed.embed_items_notebook(docs_json, render_items);\n\n  }\n  if (root.Bokeh !== undefined) {\n    embed_document(root);\n  } else {\n    var attempts = 0;\n    var timer = setInterval(function(root) {\n      if (root.Bokeh !== undefined) {\n        embed_document(root);\n        clearInterval(timer);\n      }\n      attempts++;\n      if (attempts > 100) {\n        console.log(\"Bokeh: ERROR: Unable to run BokehJS code because BokehJS library is missing\");\n        clearInterval(timer);\n      }\n    }, 10, root)\n  }\n})(window);",
                        "application/vnd.bokehjs_exec.v0+json": ""
                    },
                    "metadata": {
                        "application/vnd.bokehjs_exec.v0+json": {
                            "id": "1671"
                        }
                    },
                    "output_type": "display_data"
                }
            ],
            "source": "group = market_count.groupby(by=['Neighborhoods'])\n\nindex_cmap = factor_cmap('Neighborhoods', palette=Spectral9, factors=sorted(market_count.Neighborhoods.unique()), end=1)\n\nmr = figure( title=\"No. of Markets Nearby Mosque\",\n           x_range=group, toolbar_location=None, tooltips=[(\"NoofMarket\", \"@NoofMarket_mean\")])\n\nmr.vbar(x='Neighborhoods', top='NoofMarket_mean', width=1, source=group,\n       line_color=\"white\", fill_color=index_cmap)\n\nmr.y_range.start = 0\nmr.x_range.range_padding = 0.05\nmr.xgrid.grid_line_color = None\nmr.xaxis.axis_label = \"Neighborhood\"\nmr.yaxis.axis_label = \"No. of Market within 500m from Mosques\"\nmr.xaxis.major_label_orientation ='vertical'\nmr.outline_line_color = None\n\nshow(mr)"
        },
        {
            "cell_type": "markdown",
            "metadata": {},
            "source": "#### 2.Visualise Mosque around --insert Neighborhood--."
        },
        {
            "cell_type": "code",
            "execution_count": 82,
            "metadata": {},
            "outputs": [
                {
                    "data": {
                        "text/html": "<a download=\"mosque_count.csv\" href=\"data:text/csv;base64,LEJvcm91Z2hzLE5laWdoYm9yaG9vZHMsTm9vZk1vc3F1ZQowLE5vcnRoIFlvcmssWW9yayBVbml2ZXJzaXR5LDEKMSxDZW50cmFsIFRvcm9udG8sIk5vcnRoIE1pZHRvd24KIiwxCjIsRG93bnRvd24gVG9yb250byxSYWlsd2F5IExhbmRzLDEKMyxEb3dudG93biBUb3JvbnRvLFNvdXRoIE5pYWdhcmEsMQo0LEV0b2JpY29rZSxUaGlzdGxldG93biwyCjUsRXRvYmljb2tlLFRoaXN0bGV0b3duLDIKNixTY2FyYm9yb3VnaCxVcHBlciBSb3VnZSwyCjcsU2NhcmJvcm91Z2gsVXBwZXIgUm91Z2UsMgo4LERvd250b3duIFRvcm9udG8sVW5kZXJncm91bmQgY2l0eSwzCjksRG93bnRvd24gVG9yb250byxVbmRlcmdyb3VuZCBjaXR5LDMKMTAsRG93bnRvd24gVG9yb250byxVbmRlcmdyb3VuZCBjaXR5LDMKMTEsRXRvYmljb2tlLFRoZSBRdWVlbnN3YXkgRWFzdCwxCjEyLEV0b2JpY29rZSwiUm95YWwgWW9yayBTb3V0aCBXZXN0CiIsMwoxMyxFdG9iaWNva2UsIlJveWFsIFlvcmsgU291dGggV2VzdAoiLDMKMTQsRXRvYmljb2tlLCJSb3lhbCBZb3JrIFNvdXRoIFdlc3QKIiwzCjE1LEV0b2JpY29rZSwiU291dGggb2YgQmxvb3IKIiw4CjE2LEV0b2JpY29rZSwiU291dGggb2YgQmxvb3IKIiw4CjE3LEV0b2JpY29rZSwiU291dGggb2YgQmxvb3IKIiw4CjE4LEV0b2JpY29rZSwiU291dGggb2YgQmxvb3IKIiw4CjE5LEV0b2JpY29rZSwiU291dGggb2YgQmxvb3IKIiw4CjIwLEV0b2JpY29rZSwiU291dGggb2YgQmxvb3IKIiw4CjIxLEV0b2JpY29rZSwiU291dGggb2YgQmxvb3IKIiw4CjIyLEV0b2JpY29rZSwiU291dGggb2YgQmxvb3IKIiw4Cg==\" target=\"_blank\">Download CSV file</a>",
                        "text/plain": "<IPython.core.display.HTML object>"
                    },
                    "execution_count": 82,
                    "metadata": {},
                    "output_type": "execute_result"
                }
            ],
            "source": "from IPython.display import HTML\nimport base64 \n\ndef create_download_link( df, title = \"Download CSV file\", filename = \"halal_count.csv\"):  \n    csv = h_count.to_csv()\n    b64 = base64.b64encode(csv.encode())\n    payload = b64.decode()\n    html = '<a download=\"{filename}\" href=\"data:text/csv;base64,{payload}\" target=\"_blank\">{title}</a>'\n    html = html.format(payload=payload,title=title,filename=filename)\n    return HTML(html)\n\ncreate_download_link(df)"
        },
        {
            "cell_type": "code",
            "execution_count": null,
            "metadata": {},
            "outputs": [],
            "source": ""
        }
    ],
    "metadata": {
        "kernelspec": {
            "display_name": "Python 3.6",
            "language": "python",
            "name": "python3"
        },
        "language_info": {
            "codemirror_mode": {
                "name": "ipython",
                "version": 3
            },
            "file_extension": ".py",
            "mimetype": "text/x-python",
            "name": "python",
            "nbconvert_exporter": "python",
            "pygments_lexer": "ipython3",
            "version": "3.6.9"
        }
    },
    "nbformat": 4,
    "nbformat_minor": 4
}